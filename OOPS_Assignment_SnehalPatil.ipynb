{
  "nbformat": 4,
  "nbformat_minor": 0,
  "metadata": {
    "colab": {
      "provenance": []
    },
    "kernelspec": {
      "name": "python3",
      "display_name": "Python 3"
    },
    "language_info": {
      "name": "python"
    }
  },
  "cells": [
    {
      "cell_type": "markdown",
      "source": [
        "**Question 1: What are 5 Key concepts of Object-Oriented Programming?**"
      ],
      "metadata": {
        "id": "KRZ1ZnEhrPq7"
      }
    },
    {
      "cell_type": "markdown",
      "source": [
        "**ANS 1]** Five Key Concepts for object oriented programming:\n",
        "\n",
        "1: Object: An object is instance of a class, It is something that represents a 'thing' in your program like, car, dog or person in a game and an object has its own attributes and methods.\n",
        "Ex: A car object can have properties like colour = blue or speed = 20 and it can have methods like accelerate() or decelerate().\n",
        "\n",
        "\n",
        "2: Classes: Classes are blueprint or template for creating an object. The attributes and methods that an object can access are defined in class.\n",
        "Ex: class Car can be used as blueprint to create many other cars which will have their own colour and speed.\n",
        "\n",
        "3: Inheritance: Inheritance is way to let the derived class use properties and methods of base class. The base class can use properties and methods of derived class, modify them and use them or define completely new methods altogether.\n",
        "Ex: We can have class RaceCar that inherits the properties and methods from class Car and along with this have its own attribute called engine.\n",
        "\n",
        "4: Encapsulation: Encapsulation means keeping complicated details hidden and exposing only something that is necassary.\n",
        "Ex: A toy car starts when start button is pressed without us knowing what actually happens when the start button is pressed.\n",
        "\n",
        "5: Polymorphism: Polymorphism means that one method can work in different ways on different object\n",
        "Ex: we can have start() method for both car and aeroplane but each of them works differently after starting. Car moves on the road with wheels while aeroplane moves on runway with wheels and then with wings flies into sky."
      ],
      "metadata": {
        "id": "V9WBcYsKrZ2m"
      }
    },
    {
      "cell_type": "code",
      "source": [
        "#Example of class, object, inheritance, encapsulation and polymorphism\n",
        "class Car:  #Example of class\n",
        "    def __init__(self, colour, speed):\n",
        "        self.colour = colour\n",
        "        self.speed = speed\n",
        "\n",
        "    def move(self):\n",
        "        print(\"Car is moving\")\n",
        "\n",
        "car1 = Car(\"Blue\",10) #Example of object\n",
        "print(\"Class Car:\")\n",
        "print(car1.colour)\n",
        "print(car1.speed)\n",
        "car1.move()\n",
        "\n",
        "class RaceCar(Car): #Example of inheritance\n",
        "    def __init__(self, colour, speed, engine):\n",
        "        super().__init__(colour, speed)\n",
        "        self.engine = engine\n",
        "\n",
        "    def move(self):\n",
        "        print(\"Race car is moving\")\n",
        "\n",
        "    def start(self):\n",
        "        print(\"Race car is starting with high speed\")\n",
        "\n",
        "raceCar1 = RaceCar(\"Red\", 20, \"V8\")\n",
        "print(\"Class Race car: \")\n",
        "print(raceCar1.colour) #Here we just use class methods without having to know about code that is written to implement them so this is\n",
        "#an example of Ecapsulation. print() function is another such example. We daily use function to print values and statements but we\n",
        "#dont know about code written to implement\n",
        "print(raceCar1.speed)\n",
        "print(raceCar1.engine)\n",
        "raceCar1.move()\n",
        "raceCar1.start()"
      ],
      "metadata": {
        "colab": {
          "base_uri": "https://localhost:8080/"
        },
        "id": "3Wmbel--n5QL",
        "outputId": "cc7b322d-e9da-4fc8-81f1-3711278a63fe"
      },
      "execution_count": null,
      "outputs": [
        {
          "output_type": "stream",
          "name": "stdout",
          "text": [
            "Class Car:\n",
            "Blue\n",
            "10\n",
            "Car is moving\n",
            "Class Race car: \n",
            "Red\n",
            "20\n",
            "V8\n",
            "Race car is moving\n",
            "Race car is starting with high speed\n"
          ]
        }
      ]
    },
    {
      "cell_type": "code",
      "source": [
        "#Example of polymorphism\n",
        "class vehicle():\n",
        "  def move(self):\n",
        "    print(\"vehicle is moving\")\n",
        "\n",
        "class car(vehicle):\n",
        "  def move(self):\n",
        "    print(\"car is moving on road\")\n",
        "\n",
        "class aeroplane(vehicle):\n",
        "  def move(self):\n",
        "    print(\"aeroplane is moving in air\")\n",
        "\n",
        "v1 = vehicle()\n",
        "c1 = car()\n",
        "a1 = aeroplane()\n",
        "\n",
        "v1.move()\n",
        "c1.move()\n",
        "a1.move()"
      ],
      "metadata": {
        "colab": {
          "base_uri": "https://localhost:8080/"
        },
        "id": "-_nKxf9yriKA",
        "outputId": "918a407b-4867-437a-d686-2535f254abfd"
      },
      "execution_count": null,
      "outputs": [
        {
          "output_type": "stream",
          "name": "stdout",
          "text": [
            "vehicle is moving\n",
            "car is moving on road\n",
            "aeroplane is moving in air\n"
          ]
        }
      ]
    },
    {
      "cell_type": "markdown",
      "source": [
        "**Question 2: Write a Python class for 'Car' with attributes for 'make', 'model' and 'year'. Include a medthods to display car's information.**"
      ],
      "metadata": {
        "id": "2bf4mLhksync"
      }
    },
    {
      "cell_type": "markdown",
      "source": [
        "**ANS 2]**"
      ],
      "metadata": {
        "id": "sG5C1r4HtHsQ"
      }
    },
    {
      "cell_type": "code",
      "source": [
        "class Car:\n",
        "  def __init__(self,make,model,year):\n",
        "    self.make = make\n",
        "    self.model = model\n",
        "    self.year = year\n",
        "\n",
        "  def get_details(self):\n",
        "    print(f\"\"\"Car Info:\n",
        "    Make: {self.make}\n",
        "    Model: {self.model}\n",
        "    Year: {self.year}\"\"\")\n",
        "\n",
        "car1 = Car(\"Toyota\",\"Corolla\",2022)\n",
        "car1.get_details()"
      ],
      "metadata": {
        "colab": {
          "base_uri": "https://localhost:8080/"
        },
        "id": "6B5rpIYAzaoe",
        "outputId": "fd7097eb-e34a-443d-8b33-579355b0a44d"
      },
      "execution_count": null,
      "outputs": [
        {
          "output_type": "stream",
          "name": "stdout",
          "text": [
            "Car Info:\n",
            "    Make: Toyota\n",
            "    Model: Corolla\n",
            "    Year: 2022\n"
          ]
        }
      ]
    },
    {
      "cell_type": "markdown",
      "source": [
        " **Question 3: Explain the difference between instance methods and class methods. Provide an example of each.**"
      ],
      "metadata": {
        "id": "IDtQ6jMttLX3"
      }
    },
    {
      "cell_type": "markdown",
      "source": [
        "**ANS 3]** Instance Method:\n",
        "\n",
        "Instance method is bound to instance/Object of a class.\n",
        "\n",
        "It can access and modify object attributes.\n",
        "\n",
        "It takes 'self' as first argument.\n",
        "\n",
        "No decorator is needed to define an instance method.\n",
        "\n",
        "It can be Used for operations that affect individual instances\n",
        "\n",
        "Class Method:\n",
        "\n",
        "Class Method is bound to class itself.\n",
        "\n",
        "It can access and modify class level attributes.\n",
        "\n",
        "It takes 'cls' (class) as the first argument.\n",
        "\n",
        "@classmethod decorator is used to define class method.\n",
        "\n",
        "It can be used for operations related to class."
      ],
      "metadata": {
        "id": "9lnTcyshtVHq"
      }
    },
    {
      "cell_type": "code",
      "source": [
        "#Example of class method and instance method\n",
        "\n",
        "class MyClass:\n",
        "    class_variable = \"Class-level value\"\n",
        "\n",
        "    def __init__(self, instance_variable):\n",
        "        self.instance_variable = instance_variable\n",
        "\n",
        "    def instance_method(self):\n",
        "        print(f\"Instance method called. Instance variable: {self.instance_variable}\")\n",
        "\n",
        "    @classmethod\n",
        "    def class_method(cls):\n",
        "        print(f\"Class method called. Class variable: {cls.class_variable}\")\n",
        "\n",
        "# Create an instance\n",
        "obj = MyClass(\"Instance-level value\")\n",
        "\n",
        "# Calling instance method\n",
        "obj.instance_method()  # Works with instance data\n",
        "\n",
        "# Calling class method\n",
        "obj.class_method()     # Works with class data\n",
        "\n",
        "MyClass.class_method() # Works with class data\n"
      ],
      "metadata": {
        "colab": {
          "base_uri": "https://localhost:8080/"
        },
        "id": "zvkOl6206nTd",
        "outputId": "6e0f8e30-1e84-4998-e6c2-073a88eec8c2"
      },
      "execution_count": null,
      "outputs": [
        {
          "output_type": "stream",
          "name": "stdout",
          "text": [
            "Instance method called. Instance variable: Instance-level value\n",
            "Class method called. Class variable: Class-level value\n",
            "Class method called. Class variable: Class-level value\n"
          ]
        }
      ]
    },
    {
      "cell_type": "markdown",
      "source": [
        " **Question 4: How does Python implement method overloading? Give an example.**"
      ],
      "metadata": {
        "id": "STBAVbJOtYO4"
      }
    },
    {
      "cell_type": "markdown",
      "source": [
        "**ANS 4]** Python doesn't support traditional method overloading. If you try to overload a method in python the method that is defined later will overwrite the method that is defined earlier.\n",
        "Say, if you initially create an addition function which takes two arguments and then later on you create addition function with same name which takes three arguments, you wont get any error but you will no longer be able to access addition function that takes in two arguments.\n",
        "There is a way by which we can achieve the results of method overloading in python by using variable arguments."
      ],
      "metadata": {
        "id": "vRbTk8w2tyMQ"
      }
    },
    {
      "cell_type": "code",
      "source": [
        "#Achieving method overloading in python\n",
        "\n",
        "def add(*args):\n",
        "  sum = 0\n",
        "  for i in args:\n",
        "    sum = sum+i\n",
        "  return sum\n",
        "\n",
        "print(add(1,2))\n",
        "print(add(1,2,3))\n",
        "#Here we can see that we have passed different number of aguments"
      ],
      "metadata": {
        "colab": {
          "base_uri": "https://localhost:8080/"
        },
        "id": "5E3O0vtd9sta",
        "outputId": "3e043745-a1cb-4c84-9c63-b6167d08c445"
      },
      "execution_count": null,
      "outputs": [
        {
          "output_type": "stream",
          "name": "stdout",
          "text": [
            "3\n",
            "6\n"
          ]
        }
      ]
    },
    {
      "cell_type": "markdown",
      "source": [
        "**Question 5: What are the three types of access modifiers in Python? How are they denoted?**"
      ],
      "metadata": {
        "id": "fliHcOKvt2H7"
      }
    },
    {
      "cell_type": "markdown",
      "source": [
        "**ANS 5]** The access modifiers decides the scope pf class attributes.\n",
        "The three types of access modifiers are: Public, Protected and Private.\n",
        "\n",
        "Public: By default the class attribute is public. It does not require any number of underscopes preceeding it. Such attribute can be accessed and modified anywhere in the program.\n",
        "\n",
        "Protected: To denote a protected attribute we need to give one underscore preceeding the attibute name. Protected attributes can be accessed and modified by the object in the class they are in and in the base classes that inherit their class.\n",
        "\n",
        "Private: To denote a private attribute we need to give two underscores preceeding the attribute name. Private attributes can only be accessed and modified only in the class they are in."
      ],
      "metadata": {
        "id": "FGMRRSSbt9kM"
      }
    },
    {
      "cell_type": "code",
      "source": [
        "class ToyBox:\n",
        "    def __init__(self):\n",
        "        self.public_toy = \"Race Car\"  # public toy, everyone can play with it\n",
        "        self._protected_toy = \"Doll\"  # protected toy, only special people should play with it\n",
        "        self.__private_toy = \"Robot\"  # private toy, only the owner should play with it\n",
        "\n",
        "    # Public method to show toys\n",
        "    def show_toys(self):\n",
        "        print(f\"Public Toy: {self.public_toy}\")\n",
        "        print(f\"Protected Toy: {self._protected_toy}\")\n",
        "        print(f\"Private Toy: {self.__private_toy}\")\n",
        "\n",
        "    # Public method to safely play with the private toy\n",
        "    def play_with_private_toy(self):\n",
        "        print(f\"Playing with the private toy: {self.__private_toy}\")\n",
        "\n",
        "my_toy_box = ToyBox()\n",
        "\n",
        "print(my_toy_box.public_toy)  # Everyone can play with the Race Car.\n",
        "\n",
        "# Protected toy: Only special people should play with it, but it's still accessible\n",
        "print(my_toy_box._protected_toy)  # It’s okay to play with the Doll, but not the best idea.\n",
        "\n",
        "# Private toy: Only the owner can play with it directly (it’s hidden from others)\n",
        "#print(my_toy_box.__private_toy)  # this will cause an error! (private toys are hidden)\n",
        "\n",
        "# To safely play with the private toy, you can use a special method!\n",
        "my_toy_box.play_with_private_toy()  # Output: Playing with the private toy: Robot\n"
      ],
      "metadata": {
        "colab": {
          "base_uri": "https://localhost:8080/"
        },
        "id": "PrdVOPO6Bf5T",
        "outputId": "20f627f1-81e4-4cd8-c5bd-52e7e9127149"
      },
      "execution_count": null,
      "outputs": [
        {
          "output_type": "stream",
          "name": "stdout",
          "text": [
            "Race Car\n",
            "Doll\n",
            "Playing with the private toy: Robot\n"
          ]
        }
      ]
    },
    {
      "cell_type": "markdown",
      "source": [
        "**Question 6: Describe the five types of inheritance in Python. Provide a simple example of multiple inheritance**"
      ],
      "metadata": {
        "id": "9Q2nBlJMuJ_C"
      }
    },
    {
      "cell_type": "markdown",
      "source": [
        "**ANS 6]** Single Inheritance: In single inheritance one child class inherits the properties and methods from one parent class\n",
        "\n",
        "Multilevel Inheritance: In Multilevel inheritance child class inherits methods and attributes from another child class which then creates a chain of Inheritance\n",
        "\n",
        "Hierarchical Inheritance: In hierarchical inheritance many child classes inherit methods and attributes from one parent class.\n",
        "\n",
        "Multiple Inheritance: In multiple inheritance, one child class can inherit methods and attributes from more than one parent classes\n",
        "\n",
        "Hybrid Inheritance: Hybrid inheritance is where we can combine two or more types of Inheritance together."
      ],
      "metadata": {
        "id": "qUZSnVS0uiZ6"
      }
    },
    {
      "cell_type": "code",
      "source": [
        "#Example of single inheritance\n",
        "\n",
        "class Toys():\n",
        "  def play(self):\n",
        "    print(\"Playing with a toy\")\n",
        "\n",
        "class Car(Toys):\n",
        "  def drive(self):\n",
        "    print(\"Driving the car\")\n",
        "\n",
        "car1 = Car()\n",
        "car1.play()\n",
        "car1.drive()"
      ],
      "metadata": {
        "colab": {
          "base_uri": "https://localhost:8080/"
        },
        "id": "n3fdl6nyKsQ8",
        "outputId": "ac93af52-fa02-483d-f97f-25b29ba561aa"
      },
      "execution_count": null,
      "outputs": [
        {
          "output_type": "stream",
          "name": "stdout",
          "text": [
            "Playing with a toy\n",
            "Driving the car\n"
          ]
        }
      ]
    },
    {
      "cell_type": "code",
      "source": [
        "#Example of Multilevel Inheritance\n",
        "class Toys():\n",
        "  def play (self):\n",
        "    print(\"Playing with a toy\")\n",
        "\n",
        "class Car(Toys):\n",
        "  def drive(self):\n",
        "    print(\"Driving the car\")\n",
        "\n",
        "class RaceCar(Car):\n",
        "  def start(self):\n",
        "    print(\"Race car is starting\")\n",
        "racecar1 = RaceCar()\n",
        "racecar1.play()\n",
        "racecar1.drive()\n",
        "racecar1.start()"
      ],
      "metadata": {
        "colab": {
          "base_uri": "https://localhost:8080/"
        },
        "id": "XEiKW7YZL6t0",
        "outputId": "7f313f9d-5a16-49ff-91a7-3e2dd1c0a6ee"
      },
      "execution_count": null,
      "outputs": [
        {
          "output_type": "stream",
          "name": "stdout",
          "text": [
            "Playing with a toy\n",
            "Driving the car\n",
            "Race car is starting\n"
          ]
        }
      ]
    },
    {
      "cell_type": "code",
      "source": [
        "#Example of hierarchical inheritance\n",
        "class Toys():\n",
        "  def play (self):\n",
        "    print(\"Playing with a toy\")\n",
        "\n",
        "class Car(Toys):\n",
        "  def drive(self):\n",
        "    print(\"Driving the car\")\n",
        "\n",
        "class Bike(Toys):\n",
        "  def ride(self):\n",
        "    print(\"Riding the bike\")\n",
        "\n",
        "car1 = Car()\n",
        "car1.play()\n",
        "car1.drive()\n",
        "\n",
        "bike1 = Bike()\n",
        "bike1.play()\n",
        "bike1.ride()\n"
      ],
      "metadata": {
        "colab": {
          "base_uri": "https://localhost:8080/"
        },
        "id": "Y5z-Bh5_NfVh",
        "outputId": "5a512e89-b8e7-4b5a-f088-b32eebabe3bd"
      },
      "execution_count": null,
      "outputs": [
        {
          "output_type": "stream",
          "name": "stdout",
          "text": [
            "Playing with a toy\n",
            "Driving the car\n",
            "Playing with a toy\n",
            "Riding the bike\n"
          ]
        }
      ]
    },
    {
      "cell_type": "code",
      "source": [
        "#Example of Multiple Inheritance\n",
        "class Toys():\n",
        "  def play (self):\n",
        "    print(\"Playing with a toy\")\n",
        "\n",
        "class Vehicle():\n",
        "  def drive(self):\n",
        "    print(\"Driving the vehicle\")\n",
        "\n",
        "class Car(Toys,Vehicle):\n",
        "  def honk(self):\n",
        "    print(\"Car is honking\")\n",
        "\n",
        "c1=Car()\n",
        "c1.play()\n",
        "c1.drive()\n",
        "c1.honk()"
      ],
      "metadata": {
        "colab": {
          "base_uri": "https://localhost:8080/"
        },
        "id": "rZa60z6ZQz4z",
        "outputId": "801b5000-0a7f-4e2b-be9f-e8780ca64f29"
      },
      "execution_count": null,
      "outputs": [
        {
          "output_type": "stream",
          "name": "stdout",
          "text": [
            "Playing with a toy\n",
            "Driving the vehicle\n",
            "Car is honking\n"
          ]
        }
      ]
    },
    {
      "cell_type": "code",
      "source": [
        "#Example of Hybrid Inheritance\n",
        "class Toys():\n",
        "  def play (self):\n",
        "    print(\"Playing with a toy\")\n",
        "\n",
        "class Vehicle(Toys):\n",
        "  def drive(self):\n",
        "    print(\"Driving the vehicle\")\n",
        "\n",
        "class Animal(Toys):\n",
        "  def speak(self):\n",
        "    print(\"Animal is speaking\")\n",
        "\n",
        "class Car(Vehicle,Animal):\n",
        "  def honk(self):\n",
        "    print(\"Car is honking\")\n",
        "\n",
        "c1=Car()\n",
        "c1.play()\n",
        "c1.drive()\n",
        "c1.speak()\n",
        "c1.honk()"
      ],
      "metadata": {
        "colab": {
          "base_uri": "https://localhost:8080/"
        },
        "id": "O3r-8YHpPIYr",
        "outputId": "f73b1f10-9d5e-42b8-bd96-403df134562d"
      },
      "execution_count": null,
      "outputs": [
        {
          "output_type": "stream",
          "name": "stdout",
          "text": [
            "Playing with a toy\n",
            "Driving the vehicle\n",
            "Animal is speaking\n",
            "Car is honking\n"
          ]
        }
      ]
    },
    {
      "cell_type": "markdown",
      "source": [
        "**Question 7: What is the Method Resolution Order (MRO) in Python? How can you retrieve it programmatically**"
      ],
      "metadata": {
        "id": "kWimoAkXul6T"
      }
    },
    {
      "cell_type": "markdown",
      "source": [
        "**ANS 7]** The Method Resolution Order (MRO) is the order in which Python looks for a method or attribute in a class and its parents.\n",
        "\n",
        "Say, you want to use multiple inheritance in your code but the methods from both the parent class have the same name. Then to solve the ambiguity reagarding which method to call Python Uses MRO. In simple words python will choose to call the method from parent class that is passed first to the child class.\n",
        "\n",
        "When you have a complex family tree of classes (like with multiple inheritance), MRO ensures that Python knows exactly which class to check first, second, and so on. It prevents confusion and makes sure the right method is called.\n",
        "\n",
        "Programmatically you can check the MRO using the mro() method or the __mro__ attribute."
      ],
      "metadata": {
        "id": "iAQ1w4RouxFP"
      }
    },
    {
      "cell_type": "markdown",
      "source": [
        "**Question 8: Create an abstract base class 'Shape' with an abstract metod 'area()'. Then create you sub classes Circle and Rectangle that implement the 'area()' method.**"
      ],
      "metadata": {
        "id": "4T8WL1Atu_tn"
      }
    },
    {
      "cell_type": "markdown",
      "source": [
        "**ANS 8]**"
      ],
      "metadata": {
        "id": "Qzangjv3vX0H"
      }
    },
    {
      "cell_type": "code",
      "source": [
        "import abc\n",
        "class Shape():\n",
        "  @abc.abstractmethod\n",
        "  def area(self):\n",
        "    pass\n",
        "\n",
        "class Circle(Shape):\n",
        "  def __init__(self,radius):\n",
        "    self.radius = radius\n",
        "  def area(self):\n",
        "    return 3.14*self.radius*self.radius\n",
        "\n",
        "class Rectangle(Shape):\n",
        "   def __init__(self,length,width):\n",
        "      self.length = length\n",
        "      self.width = width\n",
        "   def area(self):\n",
        "    return self.length*self.width\n",
        "\n",
        "c1 = Circle(5)\n",
        "print(c1.area())\n",
        "r1 = Rectangle(5,10)\n",
        "print(r1.area())"
      ],
      "metadata": {
        "colab": {
          "base_uri": "https://localhost:8080/"
        },
        "id": "LeacJOOETBaw",
        "outputId": "2eefbff3-2443-4420-a2d3-0283e126840f"
      },
      "execution_count": null,
      "outputs": [
        {
          "output_type": "stream",
          "name": "stdout",
          "text": [
            "78.5\n",
            "50\n"
          ]
        }
      ]
    },
    {
      "cell_type": "markdown",
      "source": [
        "**Question 9: Demonstrate polymorphism by creating a function that can work with different shape objects to calculate and print their areas**"
      ],
      "metadata": {
        "id": "5OzX2Bd8vvDC"
      }
    },
    {
      "cell_type": "markdown",
      "source": [
        "**ANS 9]**"
      ],
      "metadata": {
        "id": "7KjJwXBwv9tA"
      }
    },
    {
      "cell_type": "code",
      "source": [
        "class Shape():\n",
        "  def area(self):\n",
        "    pass\n",
        "\n",
        "class Circle():\n",
        "  def __init__(self,radius):\n",
        "    self.radius = radius\n",
        "  def area(self):\n",
        "    return 3.14*self.radius*self.radius\n",
        "\n",
        "class Rectangle():\n",
        "   def __init__(self,length,width):\n",
        "      self.length = length\n",
        "      self.width = width\n",
        "   def area(self):\n",
        "    return self.length*self.width\n",
        "\n",
        "class Square():\n",
        "  def __init__(self,side):\n",
        "    self.side = side\n",
        "  def area(self):\n",
        "    return self.side*self.side\n",
        "\n",
        "def calculate_area(shape):\n",
        "  return shape.area()\n",
        "\n",
        "\n",
        "c1 = Circle(5)\n",
        "print(calculate_area(c1))\n",
        "r1 = Rectangle(5,10)\n",
        "print(calculate_area(r1))\n",
        "s1 = Square(5)\n",
        "print(calculate_area(s1))"
      ],
      "metadata": {
        "colab": {
          "base_uri": "https://localhost:8080/"
        },
        "id": "0cG7tY_FVBPW",
        "outputId": "b9099a6e-c035-484a-b36a-b2aed1a15309"
      },
      "execution_count": null,
      "outputs": [
        {
          "output_type": "stream",
          "name": "stdout",
          "text": [
            "78.5\n",
            "50\n",
            "25\n"
          ]
        }
      ]
    },
    {
      "cell_type": "markdown",
      "source": [
        "**Question 10:  Implement encapsulation in a `BankAccount` class with private attributes for `balance` and `account_number`. Include methods for deposit, withdrawal, and balance inquiry.**"
      ],
      "metadata": {
        "id": "LzWngLj-wELV"
      }
    },
    {
      "cell_type": "markdown",
      "source": [
        "**ANS 10]**"
      ],
      "metadata": {
        "id": "10Ej9KaJwPAn"
      }
    },
    {
      "cell_type": "code",
      "source": [
        "class BankAccount():\n",
        "  def __init__(self, acc_no, balance):\n",
        "    self.__acc_no = acc_no\n",
        "    self.__balance = balance\n",
        "\n",
        "  def deposit(self, amount):\n",
        "    self.__balance = self.__balance + amount\n",
        "\n",
        "  def withdraw(self, amount):\n",
        "    if self.__balance>=amount:\n",
        "      self.__balance = self.__balance - amount\n",
        "    else:\n",
        "      print(\"Insufficient balance\")\n",
        "\n",
        "  def get_balance(self):\n",
        "    return self.__balance\n",
        "\n",
        "ba1 = BankAccount(123455678, 2000)\n",
        "print(\"Printing the available Balance: \",ba1.get_balance())\n",
        "ba1.deposit(1000)\n",
        "print(\"Printing the available Balance: \",ba1.get_balance())\n",
        "ba1.withdraw(2000)\n",
        "print(\"Printing the available Balance: \",ba1.get_balance())\n",
        "ba1.withdraw(3000)"
      ],
      "metadata": {
        "colab": {
          "base_uri": "https://localhost:8080/"
        },
        "id": "s4h3l4SrZVqf",
        "outputId": "3763c34a-125e-4316-ce28-9fa89c69a951"
      },
      "execution_count": null,
      "outputs": [
        {
          "output_type": "stream",
          "name": "stdout",
          "text": [
            "Printing the available Balance:  2000\n",
            "Printing the available Balance:  3000\n",
            "Printing the available Balance:  1000\n",
            "Insufficient balance\n"
          ]
        }
      ]
    },
    {
      "cell_type": "markdown",
      "source": [
        "**Question 11: Write a class that overrides the `__str__` and `__add__` magic methods. What will these methods allow you to do?**"
      ],
      "metadata": {
        "id": "lE-0jNwQwSWw"
      }
    },
    {
      "cell_type": "markdown",
      "source": [
        "**ANS 11]**"
      ],
      "metadata": {
        "id": "ktrciEqYwdYI"
      }
    },
    {
      "cell_type": "code",
      "source": [
        "\"\"\"'__str__()': This method allows you to return the string representation of an object.\n",
        "\n",
        "'__add__()': This method allows you to define how two abjects should be added.\"\"\"\n",
        "\n",
        "class Point():\n",
        "  def __init__(self,x,y):\n",
        "    self.x = x\n",
        "    self.y = y\n",
        "\n",
        "  def __add__(self,other):\n",
        "    return Point(self.x + other.x, self.y + other.y)\n",
        "\n",
        "  def __str__(self):\n",
        "    return(f\"The Coordinates of point are -> x: {self.x}  y: {self.y}\")\n",
        "\n",
        "point1 = Point(1,2)\n",
        "print(point1)\n",
        "point2 = Point(3,4)\n",
        "print(point2)\n",
        "point3 = point1 + point2\n",
        "print(point3)"
      ],
      "metadata": {
        "colab": {
          "base_uri": "https://localhost:8080/"
        },
        "id": "bj1K_eqOu-L8",
        "outputId": "d1db05cf-d3c9-46e1-9e58-0802067b80b4"
      },
      "execution_count": null,
      "outputs": [
        {
          "output_type": "stream",
          "name": "stdout",
          "text": [
            "The Coordinates of point are -> x: 1  y: 2\n",
            "The Coordinates of point are -> x: 3  y: 4\n",
            "The Coordinates of point are -> x: 4  y: 6\n"
          ]
        }
      ]
    },
    {
      "cell_type": "markdown",
      "source": [
        "**Question 12: Create a decorator that measures and prints the execution time of a function.**"
      ],
      "metadata": {
        "id": "N69JnqS5wgW9"
      }
    },
    {
      "cell_type": "markdown",
      "source": [
        "**ANS 12]**"
      ],
      "metadata": {
        "id": "_b8lyn7GwqH4"
      }
    },
    {
      "cell_type": "code",
      "source": [
        "import time\n",
        "\n",
        "def time_decorator(func):\n",
        "  def wrapper():\n",
        "    start_time = time.time()\n",
        "    result = func()\n",
        "    end_time = time.time()\n",
        "    execution_time = end_time - start_time\n",
        "    print(f\"Execution Time of function {func.__name__}: {execution_time}\")\n",
        "    return result\n",
        "  return wrapper\n",
        "\n",
        "@time_decorator\n",
        "def addition():\n",
        "  sum = 0\n",
        "  for i in range(1,1001):\n",
        "    sum = sum+i\n",
        "  return sum\n",
        "\n",
        "addition()\n"
      ],
      "metadata": {
        "colab": {
          "base_uri": "https://localhost:8080/"
        },
        "id": "6DkDoe24zNGr",
        "outputId": "cd4e5a67-790f-46a4-fc69-7442317977c2"
      },
      "execution_count": null,
      "outputs": [
        {
          "output_type": "stream",
          "name": "stdout",
          "text": [
            "Execution Time of function addition: 0.00010132789611816406\n"
          ]
        },
        {
          "output_type": "execute_result",
          "data": {
            "text/plain": [
              "500500"
            ]
          },
          "metadata": {},
          "execution_count": 41
        }
      ]
    },
    {
      "cell_type": "markdown",
      "source": [
        "**Question 13: Explain the concept of the Diamond Problem in multiple inheritance. How does Python resolve it?**"
      ],
      "metadata": {
        "id": "Hyf_wOXEwxNi"
      }
    },
    {
      "cell_type": "markdown",
      "source": [
        "**ANS 13]**Diamond problem occurs when we use Multiple Inheritance in Python. In Multiple Inheritance Derived class inherits methods and attributes from two or more Base classes. If these base classes have same method names then derived class faces anbiguity regarding which base class method to implement.\n",
        "\n",
        "To solve this issue Python uses MRO: Method Resolution Order. In Simple language Python will choose to follow the method of that Base class, which is inherited first/Passed first."
      ],
      "metadata": {
        "id": "57BdFHrCw6Tf"
      }
    },
    {
      "cell_type": "code",
      "source": [
        "#Multiple Inheritance\n",
        "class Toy():\n",
        "  def play(self):\n",
        "    print(\"Playing with a Toy\")\n",
        "\n",
        "class Vehicle():\n",
        "  def play(self):\n",
        "    print(\"Driving the vehicle\")\n",
        "\n",
        "class Car(Vehicle,Toys):\n",
        "  def honk(self):\n",
        "    print(\"The car Honks!\")\n",
        "\n",
        "c1 = Car()\n",
        "c1.play()#Since Vehicle class is passed first the play method from that class will be executed.\n",
        "c1.honk()"
      ],
      "metadata": {
        "colab": {
          "base_uri": "https://localhost:8080/"
        },
        "id": "OsDj60yq7tkx",
        "outputId": "f31a1a7a-051d-4aac-e3b8-4801a8a66658"
      },
      "execution_count": null,
      "outputs": [
        {
          "output_type": "stream",
          "name": "stdout",
          "text": [
            "Driving the vehicle\n",
            "The car Honks!\n"
          ]
        }
      ]
    },
    {
      "cell_type": "markdown",
      "source": [
        "**Question 14: Write a class method that keeps track of the number of instances created from a class.**"
      ],
      "metadata": {
        "id": "b5ocbndbw93A"
      }
    },
    {
      "cell_type": "markdown",
      "source": [
        "**ANS 14]**"
      ],
      "metadata": {
        "id": "VDVPh4koxIfS"
      }
    },
    {
      "cell_type": "code",
      "source": [
        "class Students():\n",
        "  total_Student_Count = 0\n",
        "  def __init__(self,name):\n",
        "    self.name = name\n",
        "    Students.total_Student_Count = Students.total_Student_Count + 1\n",
        "\n",
        "  def get_details(self):\n",
        "    return self.name\n",
        "\n",
        "  @classmethod\n",
        "  def get_Student_count(cls):\n",
        "    return cls.total_Student_Count\n",
        "\n",
        "s1 = Students(\"John\")\n",
        "print(s1.get_details())\n",
        "\n",
        "s2 = Students(\"Jane\")\n",
        "print(s2.get_details())\n",
        "\n",
        "s3 = Students(\"Kelly\")\n",
        "print(s3.get_details())\n",
        "print(\"Total student count: \",Students.get_Student_count())"
      ],
      "metadata": {
        "colab": {
          "base_uri": "https://localhost:8080/"
        },
        "id": "TeATLF-UN-A4",
        "outputId": "35fc9c22-9098-428f-fcb5-45227ca02cd0"
      },
      "execution_count": null,
      "outputs": [
        {
          "output_type": "stream",
          "name": "stdout",
          "text": [
            "John\n",
            "Jane\n",
            "Kelly\n",
            "Total student count:  3\n"
          ]
        }
      ]
    },
    {
      "cell_type": "markdown",
      "source": [
        "**Question 15: Implement a static method in a class that checks if a given year is a leap year**"
      ],
      "metadata": {
        "id": "WqcEiro7xMkR"
      }
    },
    {
      "cell_type": "markdown",
      "source": [
        "**ANS 15]**"
      ],
      "metadata": {
        "id": "IkvaZu9IxUOp"
      }
    },
    {
      "cell_type": "code",
      "source": [
        "class Year():\n",
        "  @staticmethod\n",
        "  def is_leap_year(year):\n",
        "    if (year % 4 == 0 and year % 100 != 0) or (year % 400 == 0):\n",
        "      return True\n",
        "    else:\n",
        "      return False\n",
        "\n",
        "\n",
        "print(\"Enter any year: \")\n",
        "year =int(input())\n",
        "\n",
        "if Year.is_leap_year(year):\n",
        "  print(f\"{year} is a leap year\")\n",
        "else:\n",
        "  print(f\"{year} is not a leap year\")\n"
      ],
      "metadata": {
        "colab": {
          "base_uri": "https://localhost:8080/"
        },
        "id": "HrDml8vESxjf",
        "outputId": "eef2627a-d481-41c0-e8e9-83e3eb580d55"
      },
      "execution_count": null,
      "outputs": [
        {
          "output_type": "stream",
          "name": "stdout",
          "text": [
            "Enter any year: \n",
            "2300\n",
            "2300 is not a leap year\n"
          ]
        }
      ]
    }
  ]
}