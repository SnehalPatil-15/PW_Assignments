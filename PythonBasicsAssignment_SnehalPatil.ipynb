{
  "nbformat": 4,
  "nbformat_minor": 0,
  "metadata": {
    "colab": {
      "provenance": []
    },
    "kernelspec": {
      "name": "python3",
      "display_name": "Python 3"
    },
    "language_info": {
      "name": "python"
    }
  },
  "cells": [
    {
      "cell_type": "markdown",
      "source": [
        "**Q1] Explain Key features of Python that make it popular choice for programming.**"
      ],
      "metadata": {
        "id": "ReMsLtHDRukG"
      }
    },
    {
      "cell_type": "markdown",
      "source": [
        "**ANS 1]** 1: Huge Library:\n",
        "Python is open source language which means other users can contribute towards the improvement of language. Due to this reason Python has huge active users community and wide varieties of libraries. These libraries help in accomplishing tasks on wide range of spectrum. It can be used for development purposes as well as for analyzing data and training models.\n",
        "\n",
        "2: Easy To learn:\n",
        "Python has very simple syntax and statements that resemble to English language. This makes Python a go to language for anyone who is just getting started with programming\n",
        "\n",
        "3: Flexible:\n",
        "As mentioned above Python can be used for accomplishing various tasks. It is not Domain specific. It can be used for game development and at the same time it can also be used for data analysis puposes.\n",
        "\n",
        "These are some features of python language that make it a popular choice for programming."
      ],
      "metadata": {
        "id": "vIhPpLPVUTP_"
      }
    },
    {
      "cell_type": "markdown",
      "source": [
        "**Q2] Describe the role of predefined keywords in Python and provide examples of how they are used in a program.**"
      ],
      "metadata": {
        "id": "_vuWGdG6R-Jl"
      }
    },
    {
      "cell_type": "markdown",
      "source": [
        "**ANS 2]** Predefined keywords are words that hold special meaning and have special purpose in Python programming language.\n",
        "We use cannot use these keywords as our variable names. These should be used according to meaning assigned to them."
      ],
      "metadata": {
        "id": "6mbesTEwXcHU"
      }
    },
    {
      "cell_type": "code",
      "source": [
        "#Examples of Keywords:\n",
        "#1: if is a keyword that is used to check a condition\n",
        "a=10\n",
        "if a==10:\n",
        "  print(\"a is 10\")"
      ],
      "metadata": {
        "colab": {
          "base_uri": "https://localhost:8080/"
        },
        "id": "vZ58sZgpYNls",
        "outputId": "7200d6a4-9f43-405a-fbc2-c74a77c1b9a7"
      },
      "execution_count": null,
      "outputs": [
        {
          "output_type": "stream",
          "name": "stdout",
          "text": [
            "a is 10\n"
          ]
        }
      ]
    },
    {
      "cell_type": "code",
      "source": [
        "#2: True is a keyword in python. It is a boolean value that is used or which shows up when condition is true/1\n",
        "a=10\n",
        "if a==10:\n",
        "  print(True)"
      ],
      "metadata": {
        "colab": {
          "base_uri": "https://localhost:8080/"
        },
        "id": "rlYWPNXXYxrR",
        "outputId": "6e65d36c-aee4-44bb-cd63-5c03aa87f323"
      },
      "execution_count": null,
      "outputs": [
        {
          "output_type": "stream",
          "name": "stdout",
          "text": [
            "True\n"
          ]
        }
      ]
    },
    {
      "cell_type": "code",
      "source": [
        "#3: 'and' is a logical operator that returns true if both the conditions are true\n",
        "a=10\n",
        "b=20\n",
        "if a==10 and b==20:\n",
        "  print(\"a is 10 and b is 20\")"
      ],
      "metadata": {
        "colab": {
          "base_uri": "https://localhost:8080/"
        },
        "id": "DyLDoRFuZgK1",
        "outputId": "15d1a685-e260-4848-fc82-21a467a599c0"
      },
      "execution_count": null,
      "outputs": [
        {
          "output_type": "stream",
          "name": "stdout",
          "text": [
            "a is 10 and b is 20\n"
          ]
        }
      ]
    },
    {
      "cell_type": "markdown",
      "source": [
        "**Q3] Compare and contrast mutable and immutable objects in Python with examples.**"
      ],
      "metadata": {
        "id": "pcdZ3SZYSUts"
      }
    },
    {
      "cell_type": "markdown",
      "source": [
        "**ANS 3]** > *Mutable Objects*:\n",
        "Objects / Containers whose state or value can be changed after they are created are called Mutable Objects.\n",
        "Once created these objects can be modified using assignment operator.\n",
        "Ex: Lists are mutable.\n",
        "\n",
        "> *Immutable Objects*:\n",
        "Objects / Containers whose state or value can not be changed after they are created are called Immutable Objects.\n",
        "Once created these objects cannot be modified using assignment operator.\n",
        "Ex: Strings are immutable."
      ],
      "metadata": {
        "id": "OGEZrTnVP8sB"
      }
    },
    {
      "cell_type": "code",
      "source": [
        "#Mutable Object: List\n",
        "\n",
        "mylist = [1,2,'a','b',3]\n",
        "print(f\"My List before Modification : {mylist}\")\n",
        "mylist[4] = 'c'\n",
        "print(f\"My List after Modification : {mylist}\")"
      ],
      "metadata": {
        "colab": {
          "base_uri": "https://localhost:8080/"
        },
        "id": "iln0e9UsREWN",
        "outputId": "99ad4500-71f9-43ee-a6fb-aa61ac3613b6"
      },
      "execution_count": null,
      "outputs": [
        {
          "output_type": "stream",
          "name": "stdout",
          "text": [
            "My List before Modification : [1, 2, 'a', 'b', 3]\n",
            "My List after Modification : [1, 2, 'a', 'b', 'c']\n"
          ]
        }
      ]
    },
    {
      "cell_type": "code",
      "source": [
        "#Immutable Object: String\n",
        "name = \"Mina\"\n",
        "print(f\"Name before modification: {name}\")\n",
        "print(f\"First letter of name : {name[0]}\")\n",
        "#name[0] = 'T' #This Line of code will give error if comment is removed because string is immutable\n",
        "#print(f\"Name after modification: {name}\")"
      ],
      "metadata": {
        "colab": {
          "base_uri": "https://localhost:8080/"
        },
        "id": "A2p6FIZxSj1B",
        "outputId": "27c48eea-b4b0-40df-c779-d29c49db9ec4"
      },
      "execution_count": null,
      "outputs": [
        {
          "output_type": "stream",
          "name": "stdout",
          "text": [
            "Name before modification: Mina\n",
            "First letter of name : M\n"
          ]
        }
      ]
    },
    {
      "cell_type": "markdown",
      "source": [
        "**Q4] Discuss different types of operators in Python and provide examples of how they are used.**"
      ],
      "metadata": {
        "id": "q9QcL70HSqXN"
      }
    },
    {
      "cell_type": "markdown",
      "source": [
        "**ANS 4]** > Arithmatic Operators : +, -, /, *, %, **\n",
        "Used to perform artithmatic operations.\n",
        "\n",
        "> Comparison Uperators : ==, !=, <, <=, >, >=\n",
        "Used to compare two variables or objects.\n",
        "\n",
        "> Logical Operators : 'and', 'or', 'not'\n",
        "Performs logical and, or and not operations on variables. Usually used to check multiple conditions.\n",
        "\n",
        "> Bitwise Operators : Bitwise and (&), Bitwise or(|), Bitwise not(~), Bitwise xor(^), leftshift(<<), rightshift(>>)\n",
        "Performs operation on bit level\n",
        "\n",
        "> Assignment Operators : =, +=, -=, *=, /=\n",
        "different ways of assigning value to integer.\n",
        "Ex: a += 1 is same as a = a + 1\n",
        "\n",
        "> Membership Operators : 'in', 'not in'\n",
        "Used to check if certain values or sequence is present in object\n",
        "\n",
        "> Identity operators : 'is', 'is not'\n",
        "Compares location of two objects\n",
        "\n",
        "In following code explains usage of one of the operators from each group."
      ],
      "metadata": {
        "id": "aN4wsWdsTxlY"
      }
    },
    {
      "cell_type": "code",
      "source": [
        "#Operators:\n",
        "print(\"Arithematic Operator and assignment operator:\")\n",
        "a=2    # Assignmet Operator\n",
        "print(f\"A before using operator: {a}\")\n",
        "a = a*2\n",
        "print(f\"A after using operator: {a}\")\n",
        "print(\"_\"*100)\n",
        "print()\n",
        "\n",
        "print(\"Comparison Operator:\")\n",
        "a=1\n",
        "print(f\"a : {a}\")\n",
        "b=2\n",
        "print(f\"b : {b}\")\n",
        "print(f\"A is equal to B: {a==b}\")\n",
        "print(\"_\"*100)\n",
        "print()\n",
        "\n",
        "print(\"Logical Operator\")\n",
        "x = True\n",
        "print(f\"x : {x}\")\n",
        "y = False\n",
        "print(f\"y : {y}\")\n",
        "print(f\"x and y : {x and y}\")\n",
        "print(\"_\"*100)\n",
        "print()\n",
        "\n",
        "print(\"Bitwise Operator\")\n",
        "a = 6\n",
        "print(f\"a before bitwise operation : {a}\")\n",
        "a = a<<2\n",
        "print(f\"a after bitwise operation : {a}\")\n",
        "print(\"_\"*100)\n",
        "print()\n",
        "\n",
        "print(\"Membership operator\")\n",
        "my_list = [1,2,3,'a']\n",
        "print(f\"my_list : {my_list}\")\n",
        "print(f\"Is 2 in my_list : {2 in my_list}\")\n",
        "print(\"_\"*100)\n",
        "print()\n",
        "\n",
        "print(\"Identity Operator\")\n",
        "a=20\n",
        "print(f\"a : {a}\")\n",
        "b=20\n",
        "print(f\"b : {b}\")\n",
        "print(f\"a is b: {a is b}\")"
      ],
      "metadata": {
        "colab": {
          "base_uri": "https://localhost:8080/"
        },
        "id": "DIlaQ9skXTW3",
        "outputId": "003ad059-c2c9-4a3f-8fe8-beb13d57acd7"
      },
      "execution_count": null,
      "outputs": [
        {
          "output_type": "stream",
          "name": "stdout",
          "text": [
            "Arithematic Operator and assignment operator:\n",
            "A before using operator: 2\n",
            "A after using operator: 4\n",
            "____________________________________________________________________________________________________\n",
            "\n",
            "Comparison Operator:\n",
            "a : 1\n",
            "b : 2\n",
            "A is equal to B: False\n",
            "____________________________________________________________________________________________________\n",
            "\n",
            "Logical Operator\n",
            "x : True\n",
            "y : False\n",
            "x and y : False\n",
            "____________________________________________________________________________________________________\n",
            "\n",
            "Bitwise Operator\n",
            "a before bitwise operation : 6\n",
            "a after bitwise operation : 24\n",
            "____________________________________________________________________________________________________\n",
            "\n",
            "Membership operator\n",
            "my_list : [1, 2, 3, 'a']\n",
            "Is 2 in my_list : True\n",
            "____________________________________________________________________________________________________\n",
            "\n",
            "Identity Operator\n",
            "a : 20\n",
            "b : 20\n",
            "a is b: True\n"
          ]
        }
      ]
    },
    {
      "cell_type": "markdown",
      "source": [
        "**Q5] Explain the concept of type casting in Python with examples.**"
      ],
      "metadata": {
        "id": "0hcD7o40S-Y1"
      }
    },
    {
      "cell_type": "markdown",
      "source": [
        "**ANS 5]** The process of changing the datatype of an object is called typecasting.\n",
        "\n",
        "Two types of typecasting:\n",
        ">Implicit typecasting: Happens automatically\n",
        "\n",
        ">Explicit typecasting: Done by programmers"
      ],
      "metadata": {
        "id": "x1nY_1ZDbUVe"
      }
    },
    {
      "cell_type": "code",
      "source": [
        "#Implicit Typecasting\n",
        "a = 20\n",
        "print(f\"a : {a}\")\n",
        "print(f\"Datatype of a : {type(a)}\") #Python understands that a is integer\n",
        "print()\n",
        "b = 30\n",
        "print(f\"b : {b}\")\n",
        "print(f\"Datatype of b before typecasting : {type(b)}\")\n",
        "b = str(b)\n",
        "print(f\"b : {b}\")\n",
        "print(f\"Datatype of b after typecasting : {type(b)}\")"
      ],
      "metadata": {
        "colab": {
          "base_uri": "https://localhost:8080/"
        },
        "id": "nkJrZ2gxb7Bc",
        "outputId": "4c1e2789-7a1b-4c8c-d8e1-a4bb2b685742"
      },
      "execution_count": null,
      "outputs": [
        {
          "output_type": "stream",
          "name": "stdout",
          "text": [
            "a : 20\n",
            "Datatype of a : <class 'int'>\n",
            "\n",
            "b : 30\n",
            "Datatype of b before typecasting : <class 'int'>\n",
            "b : 30\n",
            "Datatype of b after typecasting : <class 'str'>\n"
          ]
        }
      ]
    },
    {
      "cell_type": "markdown",
      "source": [
        "**Q6] How do conditional statements work in Python? illustrate with examples.**"
      ],
      "metadata": {
        "id": "sHfFWj1_TVtf"
      }
    },
    {
      "cell_type": "markdown",
      "source": [
        "**ANS 6]** Conditional statements are used in python to check various conditions. The keywords used to check the conditions are: 'if', 'else', 'elif'."
      ],
      "metadata": {
        "id": "nCmfxGejdI2l"
      }
    },
    {
      "cell_type": "code",
      "source": [
        "print(\"Checking Single Condition\")\n",
        "age = 15\n",
        "if age >= 18:\n",
        "  print(\"You are eligible to vote\")\n",
        "else:\n",
        "  print(\"You are not eligible to vote\")\n",
        "\n",
        "print()\n",
        "\n",
        "print(\"Checking Multiple Conditions\")\n",
        "marks = 68\n",
        "if marks<= 100 and marks>=70:\n",
        "  print(\"Grade A\")\n",
        "elif marks<= 69 and marks>=40:\n",
        "  print(\"Grade B\")\n",
        "elif marks<= 39 and marks>=35:\n",
        "  print(\"Grade C\")\n",
        "else:\n",
        "  print(\"Grade F\")"
      ],
      "metadata": {
        "colab": {
          "base_uri": "https://localhost:8080/"
        },
        "id": "LJttOvrHdhIP",
        "outputId": "f2d7425f-d809-46ba-b705-fc3d504e4b6e"
      },
      "execution_count": null,
      "outputs": [
        {
          "output_type": "stream",
          "name": "stdout",
          "text": [
            "Checking Single Condition\n",
            "You are not eligible to vote\n",
            "\n",
            "Checking Multiple Conditions\n",
            "Grade B\n"
          ]
        }
      ]
    },
    {
      "cell_type": "markdown",
      "source": [
        "**Q7] Describe the different types of loops in Python and their use cases with examples.**"
      ],
      "metadata": {
        "id": "zOfmUYZUTl1y"
      }
    },
    {
      "cell_type": "markdown",
      "source": [
        "**ANS 7]** There are two types of loop in python\n",
        "> While loop : Keeps running until the specified condition remains True\n",
        "\n",
        "> For Loop : Checks condition over range of values."
      ],
      "metadata": {
        "id": "MyGS7ma2fOpg"
      }
    },
    {
      "cell_type": "code",
      "source": [
        "print(\"While Loop\")\n",
        "\n",
        "credits = 5\n",
        "while (credits > 0):\n",
        "  print(f\"Keep Enjoying, You have {credits} credit points left\")\n",
        "  credits = credits - 1\n",
        "print(f\"You have run out of credits. Credit points left : {credits}\")\n",
        "\n",
        "print(\"_\"*100)\n",
        "\n",
        "print(\"For Loop\")\n",
        "for i in range(15):\n",
        "  print(i)"
      ],
      "metadata": {
        "colab": {
          "base_uri": "https://localhost:8080/"
        },
        "id": "vn91LSolfnv_",
        "outputId": "1d7bc2e7-fd28-48e7-c16b-f736008123d4"
      },
      "execution_count": null,
      "outputs": [
        {
          "output_type": "stream",
          "name": "stdout",
          "text": [
            "While Loop\n",
            "Keep Enjoying, You have 5 credit points left\n",
            "Keep Enjoying, You have 4 credit points left\n",
            "Keep Enjoying, You have 3 credit points left\n",
            "Keep Enjoying, You have 2 credit points left\n",
            "Keep Enjoying, You have 1 credit points left\n",
            "You have run out of credits. Credit points left : 0\n",
            "____________________________________________________________________________________________________\n",
            "For Loop\n",
            "0\n",
            "1\n",
            "2\n",
            "3\n",
            "4\n",
            "5\n",
            "6\n",
            "7\n",
            "8\n",
            "9\n",
            "10\n",
            "11\n",
            "12\n",
            "13\n",
            "14\n"
          ]
        }
      ]
    }
  ]
}