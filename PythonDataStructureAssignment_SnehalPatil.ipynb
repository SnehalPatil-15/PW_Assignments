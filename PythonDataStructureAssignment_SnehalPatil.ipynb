{
  "nbformat": 4,
  "nbformat_minor": 0,
  "metadata": {
    "colab": {
      "provenance": []
    },
    "kernelspec": {
      "name": "python3",
      "display_name": "Python 3"
    },
    "language_info": {
      "name": "python"
    }
  },
  "cells": [
    {
      "cell_type": "markdown",
      "source": [
        "**Question 1: Discuss String slicing and provide Examples.**"
      ],
      "metadata": {
        "id": "dAmRiM4z0QOS"
      }
    },
    {
      "cell_type": "markdown",
      "source": [
        "**ANS 1]** String slicing means accessing or Extracting some part of string.\n",
        "\n",
        "The syntax for doing so is:\n",
        "string_name[start_index : End_index+1 : step_value]\n",
        "\n",
        "start_index denotes the starting index of our desired substring.\n",
        "\n",
        "End_index+1 denotes the end index of desired substring. This value should always be +1 of the index where we wish to end.\n",
        "\n",
        "step_value denotes the steps we need to take to access next element of desired substring."
      ],
      "metadata": {
        "id": "pANs2amD2Yua"
      }
    },
    {
      "cell_type": "code",
      "source": [
        "print(\"String Slicing\")\n",
        "my_string = \"Ice-cream\"\n",
        "\n",
        "print(f\"Accessing by positive index [2]: {my_string[2]}\")\n",
        "print(f\"Accessing by negative index [-2]: {my_string[-2]}\")\n",
        "print(f\"Accessing all characters except last 2 characters: {my_string[:-2]}\")\n",
        "print(f\"Accessing only last 2 characters: {my_string[-2:]}\")\n",
        "print(f\"Accessing entire string using step value 2: {my_string[::2]}\")\n",
        "print(f\"Reversing the string: {my_string[::-1]}\")"
      ],
      "metadata": {
        "colab": {
          "base_uri": "https://localhost:8080/"
        },
        "id": "UCkyx9_S4sCi",
        "outputId": "c4faacca-848a-4eee-81ce-15d3744156f5"
      },
      "execution_count": null,
      "outputs": [
        {
          "output_type": "stream",
          "name": "stdout",
          "text": [
            "String Slicing\n",
            "Accessing by positive index [2]: e\n",
            "Accessing by negative index [-2]: a\n",
            "Accessing all characters except last 2 characters: Ice-cre\n",
            "Accessing only last 2 characters: am\n",
            "Accessing entire string using step value 2: Iecem\n",
            "Reversing the string: maerc-ecI\n"
          ]
        }
      ]
    },
    {
      "cell_type": "markdown",
      "source": [
        "**Question 2: Explain key features of lists in python.**"
      ],
      "metadata": {
        "id": "6pk6RsUl0b1D"
      }
    },
    {
      "cell_type": "markdown",
      "source": [
        "**ANS 2]** Features of python Lists:\n",
        "> Ordered : It means that all elements in list have a specific order and they do not change their positions everytime we perform some operation on them.\n",
        "\n",
        "> Heterogenous : One list in python can comprise of various data types. List can have Integer, float, boolean or even string values all together.\n",
        "\n",
        "> Mutable : Python lists are mutable which means you can make modification in list even after its creation.\n",
        "\n",
        "> Indexed and Iterable : In python every element in list has a fixed index and because of this you can iterate through the list.\n",
        "\n",
        "> Allows Duplicate elements : It means a list can have same element more than one time.  "
      ],
      "metadata": {
        "id": "UXPvrW8C2b57"
      }
    },
    {
      "cell_type": "code",
      "source": [
        "my_list = [1,2,3,4,5]\n",
        "print(f\"My Original List : {my_list}\") #The list gets printed in the same order that you entered elements.\n",
        "\n",
        "my_list[4] = 'Hello'\n",
        "my_list[3] = 4.5\n",
        "my_list[2] = True\n",
        "my_list[1] = 1\n",
        "print()\n",
        "print(f\"My Modified and heterogenous list with a duplicate element '1': {my_list}\") #Showing that list is Mutable, heterogenous and allows duplicates\n",
        "\n",
        "print()\n",
        "print(\"Iterating through the list using for loop\")\n",
        "for i in my_list:\n",
        "  print(i)"
      ],
      "metadata": {
        "colab": {
          "base_uri": "https://localhost:8080/"
        },
        "id": "8B5cu6fMl55J",
        "outputId": "3845a008-a8e3-4e1a-ac5a-23a266c43cc5"
      },
      "execution_count": null,
      "outputs": [
        {
          "output_type": "stream",
          "name": "stdout",
          "text": [
            "My Original List : [1, 2, 3, 4, 5]\n",
            "\n",
            "My Modified and heterogenous list with a duplicate element '1': [1, 1, True, 4.5, 'Hello']\n",
            "\n",
            "Iterating through the list using for loop\n",
            "1\n",
            "1\n",
            "True\n",
            "4.5\n",
            "Hello\n"
          ]
        }
      ]
    },
    {
      "cell_type": "markdown",
      "source": [
        "**Question 3: Discuss how to access, modify and delete elements in a list with examples.**"
      ],
      "metadata": {
        "id": "n1sfcsHi0jDl"
      }
    },
    {
      "cell_type": "markdown",
      "source": [
        "**ANS 3]** To access elements in List we use indexing and slicing.\n",
        "\n",
        "\n",
        "To modify the elements in list:\n",
        "> We can modify an element using the assignment operator\n",
        "\n",
        "> We can add an element at the end of the list by using append()\n",
        "\n",
        "> We can insert any element at derired location by using insert()\n",
        "\n",
        "> We can extend one list by adding another list at the end by using extend()\n",
        "\n",
        "To delete the elements in list:\n",
        "> We can remove any element by using remove()\n",
        "\n",
        "> We can remove the last element by using pop()\n",
        "\n",
        "> We can remove everything from list by using clear()\n",
        "\n",
        "> We can delete the list variable by using 'del' keyword"
      ],
      "metadata": {
        "id": "cW0rvimn2evk"
      }
    },
    {
      "cell_type": "code",
      "source": [
        "list1 = [1,2,3.5,False,'A','Hello']\n",
        "print(f\"Original List : {list1}\")\n",
        "print(\"_\"*100)\n",
        "\n",
        "print(\"Accessing Elements of list :\")\n",
        "print(f\"Accessing by positive index [2]: {list1[2]}\")\n",
        "print(f\"Accessing by negative index [-2]: {list1[-2]}\")\n",
        "print(f\"Accessing all elements except last 2 elements: {list1[:-2]}\")\n",
        "print(f\"Accessing only last 2 elements: {list1[-2:]}\")\n",
        "print(f\"Accessing entire list using step value 2: {list1[::2]}\")\n",
        "print(\"_\"*100)\n",
        "\n",
        "print(\"Modifying List: \")\n",
        "list1[3] = True\n",
        "print(f\"Modified List at third index : {list1}\")\n",
        "list1.append('World')\n",
        "print(f\"Modified List after appending 'World' at end: {list1}\")\n",
        "list1.insert(2,3)\n",
        "print(f\"Modified List after inserting 3 at second index: {list1}\")\n",
        "list2 = ['Yes','no','maybe']\n",
        "print(f\"Original list 2 : {list2}\")\n",
        "list1.extend(list2)\n",
        "print(f\"Modified List after extending with list2: {list1}\")\n",
        "print(\"_\"*100)\n",
        "\n",
        "print(\"Deleting the elements from list: \")\n",
        "list1.remove('World')\n",
        "print(f\"Modified List after removing 'World': {list1}\")\n",
        "list1.pop()\n",
        "print(f\"Modified List after removing last element: {list1}\")\n",
        "list1.clear()\n",
        "print(f\"Modified List after clearing all elements: {list1}\")\n",
        "del list1\n",
        "# print(list1)   #This will give error because now we have deleted the list1 variable\n",
        "print(\"Deleted the list variable\")\n"
      ],
      "metadata": {
        "colab": {
          "base_uri": "https://localhost:8080/"
        },
        "id": "UgaLW6WIrEGm",
        "outputId": "17a12f8e-d77c-460c-fae0-77026f175a7e"
      },
      "execution_count": null,
      "outputs": [
        {
          "output_type": "stream",
          "name": "stdout",
          "text": [
            "Original List : [1, 2, 3.5, False, 'A', 'Hello']\n",
            "____________________________________________________________________________________________________\n",
            "Accessing Elements of list :\n",
            "Accessing by positive index [2]: 3.5\n",
            "Accessing by negative index [-2]: A\n",
            "Accessing all elements except last 2 elements: [1, 2, 3.5, False]\n",
            "Accessing only last 2 elements: ['A', 'Hello']\n",
            "Accessing entire list using step value 2: [1, 3.5, 'A']\n",
            "____________________________________________________________________________________________________\n",
            "Modifying List: \n",
            "Modified List at third index : [1, 2, 3.5, True, 'A', 'Hello']\n",
            "Modified List after appending 'World' at end: [1, 2, 3.5, True, 'A', 'Hello', 'World']\n",
            "Modified List after inserting 3 at second index: [1, 2, 3, 3.5, True, 'A', 'Hello', 'World']\n",
            "Original list 2 : ['Yes', 'no', 'maybe']\n",
            "Modified List after extending with list2: [1, 2, 3, 3.5, True, 'A', 'Hello', 'World', 'Yes', 'no', 'maybe']\n",
            "____________________________________________________________________________________________________\n",
            "Deleting the elements from list: \n",
            "Modified List after removing 'World': [1, 2, 3, 3.5, True, 'A', 'Hello', 'Yes', 'no', 'maybe']\n",
            "Modified List after removing last element: [1, 2, 3, 3.5, True, 'A', 'Hello', 'Yes', 'no']\n",
            "Modified List after clearing all elements: []\n",
            "Deleted the list variable\n"
          ]
        }
      ]
    },
    {
      "cell_type": "markdown",
      "source": [
        "**Question 4: Compare and contrast tuples and lists with examples.**"
      ],
      "metadata": {
        "id": "S9J-sw_F04dO"
      }
    },
    {
      "cell_type": "markdown",
      "source": [
        "**ANS 4]** Just like list tuple is another data structure found in python that is ordered, iterable, heterogenous and can store duplicate values. However, there is one thing that is different in tuples from list: tuples are immutable unlike lists. Which means we cannot make modifications in tuples once they are defined and created."
      ],
      "metadata": {
        "id": "NB8x1tQF2ibr"
      }
    },
    {
      "cell_type": "code",
      "source": [
        "# Creating a tuple and list\n",
        "list1 = [1,2,3.5,False,'A','Hello']\n",
        "tuple1 = (1,2,3.5,False,'A','Hello')\n",
        "print(f\"Original List : {list1}\")\n",
        "print(f\"Original Tuple : {tuple1}\")\n",
        "print()\n",
        "\n",
        "# Making modifications\n",
        "print(f\"list1[1] before making modification: {list1[1]}\")\n",
        "list1[1] = 10\n",
        "print(f\"list1[1] after making modification: {list1[1]}\")\n",
        "print()\n",
        "print(f\"tuple1[1] before making modification: {tuple1[1]}\")\n",
        "#tuple1[1] = 10 #This will give error because tuple is immutable\n",
        "#print(f\"tuple1[1] after making modification : {tuple1[1]}\")\n",
        "print()\n",
        "\n",
        "print(f\"List after modification: {list1}\")\n",
        "print(f\"Cannot make modification to tuple : {tuple1}\")"
      ],
      "metadata": {
        "colab": {
          "base_uri": "https://localhost:8080/"
        },
        "id": "0yOA0U7QJbFz",
        "outputId": "bc3eb52f-33f9-473a-a3df-dc56088c9a3b"
      },
      "execution_count": 7,
      "outputs": [
        {
          "output_type": "stream",
          "name": "stdout",
          "text": [
            "Original List : [1, 2, 3.5, False, 'A', 'Hello']\n",
            "Original Tuple : (1, 2, 3.5, False, 'A', 'Hello')\n",
            "\n",
            "list1[1] before making modification: 2\n",
            "list1[1] after making modification: 10\n",
            "\n",
            "tuple1[1] before making modification: 2\n",
            "\n",
            "List after modification: [1, 10, 3.5, False, 'A', 'Hello']\n",
            "Cannot make modification to tuple : (1, 2, 3.5, False, 'A', 'Hello')\n"
          ]
        }
      ]
    },
    {
      "cell_type": "markdown",
      "source": [
        "**Question 5: Describe the key features of sets and provide examples of their use.**"
      ],
      "metadata": {
        "id": "MQZc5-kb1HLX"
      }
    },
    {
      "cell_type": "markdown",
      "source": [
        "**ANS 5]** Features of set:\n",
        "> Unordered : Set collection does not follow a specific order. It means the order in which you insert elements in set is not the same as it is diplayed and everytime you try to display a set the order is changes. This is why indexing and slicing cannot be performed on sets.\n",
        "\n",
        "> Duplicates not allowed : Sets cannot have two same elements. If while inserting values we add duplicate values, we can still notice that on creation all the values are unique and duplicate values are removed.\n",
        "\n",
        "> Heterogenous : Same set can contain values of different datatypes"
      ],
      "metadata": {
        "id": "8QX9pLHd2l7b"
      }
    },
    {
      "cell_type": "code",
      "source": [
        "my_set = {1,2,2,2,3.5,'a','a'} #Adding Heterogenous values to set\n",
        "print(f\"My Original Set : {my_set}\") #Duplicate values will be removed automatically in output\n",
        "\n",
        "# print(my_set[0]) #This line will give error because set is unordered and hence indexing wont work"
      ],
      "metadata": {
        "colab": {
          "base_uri": "https://localhost:8080/"
        },
        "id": "eMuQmqjnUjSu",
        "outputId": "88afa7b7-476c-4719-db84-d907072a38f8"
      },
      "execution_count": 12,
      "outputs": [
        {
          "output_type": "stream",
          "name": "stdout",
          "text": [
            "My Original Set : {1, 2, 3.5, 'a'}\n"
          ]
        }
      ]
    },
    {
      "cell_type": "markdown",
      "source": [
        "**Question 6: Discuss the use cases of tuples and sets in Python programming.**"
      ],
      "metadata": {
        "id": "-sKkaI6n1VyH"
      }
    },
    {
      "cell_type": "markdown",
      "source": [
        "**ANS 6]** Tuples : Tuples can store heterogenous data and duplicate values but modification is not allowed. So we can use tuples where we are sure that data is fixed and no modification would be made to data OR no modification would be allowed to be made to data.\n",
        "Examples : When we work in an organization our employee id will remain the same till the date we leave the organization, after that it will simply be deleted. So, in this case we need to make sure that the basic information like our employee id is immutable. This is where we can use tuple.\n",
        "\n",
        "Set : Set can store heterogenouus values but duplicate values are not allowed in set.\n",
        "Example : We can use set when we have huge amount of repetitive data and we just wish to find distinct categories."
      ],
      "metadata": {
        "id": "szGxwnBm2pXn"
      }
    },
    {
      "cell_type": "code",
      "source": [
        "# Tuple\n",
        "Employee_ids = ('EMP001','EMP002','EMP003','EMP004')\n",
        "print(f\"Employee ids : {Employee_ids}\") #These values cannot be modified\n",
        "print()\n",
        "\n",
        "# Set\n",
        "products_sold = ['Product A', 'Product B', 'Product A', 'Product C', 'Product B', 'Product A', 'Product E', 'Product A', 'Product C', 'Product D', 'Product A', 'Product B', 'Product A', 'Product C', 'Product B']\n",
        "print(f\"Products sold throughout the day : {products_sold}\")\n",
        "unique_products = set(products_sold)\n",
        "print(f\"Distinct products of company : {unique_products}\")"
      ],
      "metadata": {
        "colab": {
          "base_uri": "https://localhost:8080/"
        },
        "id": "y7STS1quZhuR",
        "outputId": "ed425a64-5fcb-498b-e4b7-178327902ee3"
      },
      "execution_count": 18,
      "outputs": [
        {
          "output_type": "stream",
          "name": "stdout",
          "text": [
            "Employee ids : ('EMP001', 'EMP002', 'EMP003', 'EMP004')\n",
            "\n",
            "Products sold throughout the day : ['Product A', 'Product B', 'Product A', 'Product C', 'Product B', 'Product A', 'Product E', 'Product A', 'Product C', 'Product D', 'Product A', 'Product B', 'Product A', 'Product C', 'Product B']\n",
            "Distinct products of company : {'Product A', 'Product C', 'Product B', 'Product D', 'Product E'}\n"
          ]
        }
      ]
    },
    {
      "cell_type": "markdown",
      "source": [
        "**Question 7: Describe how to add, modify, and delete items in a dictionary with examples.**"
      ],
      "metadata": {
        "id": "1gJsfxtA1i5P"
      }
    },
    {
      "cell_type": "markdown",
      "source": [
        "**ANS 7]** Adding Key-Value pair syntax: dictionary_name[index]=[value]\n",
        "\n",
        "---\n",
        "\n",
        "\n",
        "\n",
        "Modifications in dictionary:\n",
        "dicationary_name = {key1 : values11, key2 : value2, key1 : value1}\n",
        "\n",
        "following the above syntax the previous value of 'key1' that is 'values11' will be changed to 'value1'\n",
        "\n",
        "---\n",
        "Deleting items in dictionary syntax : del dictionary_name[key]\n",
        "\n",
        "The delete keyword will thus delete key and value pair in dictionary.\n"
      ],
      "metadata": {
        "id": "J4Q0CwdA2spB"
      }
    },
    {
      "cell_type": "code",
      "source": [
        "d = {1:11, 2:22, 3:33, 4:44}\n",
        "print(f\"Original Dictionary : {d}\")\n",
        "d[5] = 55\n",
        "print(f\"Dictionary after adding key-value pair 5:55 : {d}\")\n",
        "d[1] = 111\n",
        "print(f\"Dictionary after modifying key-value pair 1:11 to 1:111 : {d}\")\n",
        "del d[2]\n",
        "print(f\"Dictionary after deleting key-value pair 2:22 : {d}\")"
      ],
      "metadata": {
        "colab": {
          "base_uri": "https://localhost:8080/"
        },
        "id": "HmydRWxafNjk",
        "outputId": "aabff296-79f8-4c1d-9844-5dcdfed1eaab"
      },
      "execution_count": 26,
      "outputs": [
        {
          "output_type": "stream",
          "name": "stdout",
          "text": [
            "Original Dictionary : {1: 11, 2: 22, 3: 33, 4: 44}\n",
            "Dictionary after adding key-value pair 5:55 : {1: 11, 2: 22, 3: 33, 4: 44, 5: 55}\n",
            "Dictionary after modifying key-value pair 1:11 to 1:111 : {1: 111, 2: 22, 3: 33, 4: 44, 5: 55}\n",
            "Dictionary after deleting key-value pair 2:22 : {1: 111, 3: 33, 4: 44, 5: 55}\n"
          ]
        }
      ]
    },
    {
      "cell_type": "markdown",
      "source": [
        "**Question 8: Discuss the importance of dictionary keys being immutable and provide examples.**"
      ],
      "metadata": {
        "id": "w6ARmIYI1vO3"
      }
    },
    {
      "cell_type": "markdown",
      "source": [
        "**ANS 8]** A dictionary in Python is a data structure that holds information in key-value pairs. The key serves as an identification for getting the corresponding value. It is important that keys stay immutable, which means they cannot be changed after they are created. This guarantees that each key keeps referring to the appropriate value.\n",
        "\n",
        "Immutability is Important because:\n",
        "\n",
        "If keys were mutable, changing them could lead to confusion. Imagine if you could modify a key after storing a value under it, you might no longer be able to access that value later.\n",
        "\n",
        "Dictionaries utilize a hashing method to rapidly locate values based on keys. Mutable objects, such as lists, cannot provide a consistent hash value since their content may change. Using such mutable data structures as keys or having mutable keys would disrupt the dictionary structure."
      ],
      "metadata": {
        "id": "mDiAmCPw2wNr"
      }
    },
    {
      "cell_type": "code",
      "source": [
        "# Having immutable dictionary keys\n",
        "d1 = {1:111, 2:222, 3:111}\n",
        "print(f\"Dictionary with immutable keys d1: {d1}\")\n",
        "\n",
        "d2 ={(1,2):'a', (3,4):'b'} #Tuples are immutable\n",
        "print(f\"Dictionary with immutable keys d2: {d2}\")\n",
        "\n",
        "#both d1 and d2 will work and provide output because keys are immutable\n",
        "\n",
        "print()\n",
        "\n",
        "# Having mutable dictionary keys\n",
        "\n",
        "#d3 = {[1,2]:'a', [3,4]:'b'} #Lists are mutable\n",
        "#print(f\"Dictionary with mutable keys d3: {d3}\")\n",
        "\n",
        "#However, above two lines of code will give an error because dictionary keys are not mutable"
      ],
      "metadata": {
        "colab": {
          "base_uri": "https://localhost:8080/"
        },
        "id": "i4nEwszFm0wT",
        "outputId": "09a6914e-4d67-4fe6-a435-b6a492586860"
      },
      "execution_count": 31,
      "outputs": [
        {
          "output_type": "stream",
          "name": "stdout",
          "text": [
            "Dictionary with immutable keys d1: {1: 111, 2: 222, 3: 111}\n",
            "Dictionary with immutable keys d2: {(1, 2): 'a', (3, 4): 'b'}\n",
            "\n"
          ]
        }
      ]
    }
  ]
}