{
  "nbformat": 4,
  "nbformat_minor": 0,
  "metadata": {
    "colab": {
      "provenance": []
    },
    "kernelspec": {
      "name": "python3",
      "display_name": "Python 3"
    },
    "language_info": {
      "name": "python"
    }
  },
  "cells": [
    {
      "cell_type": "markdown",
      "source": [
        "# Theoretical Questions"
      ],
      "metadata": {
        "id": "xP1GSSdvgo0T"
      }
    },
    {
      "cell_type": "markdown",
      "source": [
        "**Question 1: Explain the purpose and advantages of NumPy in scientific computing and data analysis. How does it enhance Python's capabilities for numerical operations?**"
      ],
      "metadata": {
        "id": "zslW1w_cguX2"
      }
    },
    {
      "cell_type": "markdown",
      "source": [
        "**ANS 1]** Numpy stands for Numerical Python. It is one of the most widely used libraries in Python for scientific computing and data analysis. Numpy is a tool that helps us work with lots of numbers with a very high speed.\n",
        "\n",
        "Advantages of Numpy:\n",
        "\n",
        "Faster Calculations: Doing Math with lists in Python takes a lot of time if there is lot of data. But since Numpy is implemented using C language which is one of the fastest programming language, all the mathematical calculations are performed at high speed.\n",
        "\n",
        "More Control: With Numpy we can do slicing of data, and we can also reshaoe the data without any hassle.\n",
        "\n",
        "Availability of better Math Tools: Numpy gives us Various tools for working with numbers. If we want to do things like multiply matrices, find averages, or do more complex math, Numpy makes it easy.\n",
        "\n",
        "The above mentioned features of Numpy make Python better for maths."
      ],
      "metadata": {
        "id": "i4y0vfkNl8gK"
      }
    },
    {
      "cell_type": "markdown",
      "source": [
        "**Question 2: Compare and contrast np.mean() and np.average() functions in NumPy. When would you use one over the other?**"
      ],
      "metadata": {
        "id": "jj_21H79hCMP"
      }
    },
    {
      "cell_type": "markdown",
      "source": [
        "**ANS 2]** Both np.mean() and np.average() are functions in Numpy that help you calculate the average of numbers.\n",
        "\n",
        "np.mean() always calculates a simple average\n",
        "\n",
        "np.average() can also calculate the simple average but can be customized with weights to give different importance to each number.\n",
        "\n",
        "When you need average of all numbers equally use np.mean() but when you need to consider some numbers more important than others, you need to use weights. In this case np.average()\n"
      ],
      "metadata": {
        "id": "rMy1ZV5Sl_UT"
      }
    },
    {
      "cell_type": "markdown",
      "source": [
        "**Question 3: Describe the methods for reversing a NumPy array along different axes. Provide examples for 1D and 2D arrays.**"
      ],
      "metadata": {
        "id": "WldC9QYlhQ5m"
      }
    },
    {
      "cell_type": "markdown",
      "source": [
        "**ANS 3]** Reversing 1D Array:\n",
        "\n",
        "A 1D array is like a list of numbers, and to reverse it, you just flip the order of the numbers.\n",
        "You can use slicing to reverse a 1D array.\n",
        "The syntax for slicing is array[start:stop:step], and to reverse, we set the step as -1.\n",
        "\n",
        "Reversing 2D Array:\n",
        "\n",
        "2D Array can be reversed in 2 ways: 1] Reversing along rows\n",
        "2] Reversing along columns\n",
        "\n",
        "1] Reversing along rows:\n",
        "\n",
        "To flip array upside down we can use sicing along axis 0\n",
        "\n",
        "2] Reversing along Columns:\n",
        "\n",
        "If you want to reverse order of number along each row, we need to reverse along axis 1\n",
        "\n",
        "\n",
        "Reversing 2D Array along both the axes:\n",
        "\n",
        "To reverse an Array along both rows and columns you can use array_name[::-1, ::-1]\n"
      ],
      "metadata": {
        "id": "QNHOx5_lmEoQ"
      }
    },
    {
      "cell_type": "code",
      "source": [
        "#Reversing 1D Array\n",
        "import numpy as np\n",
        "arr = np.array([1,2,5,6,9])\n",
        "print(\"Original 1D Array: \",arr)\n",
        "print(\"Reversed 1D Array: \",arr[::-1])\n",
        "\n",
        "#Reversing 2D Array along rows\n",
        "arr1 = np.array([[1,2,3],[11,22,33],[111,222,333]])\n",
        "print(\"Original 2D Array: \\n\",arr1)\n",
        "print(\"Reversed 2D Array along rows: \\n\",arr1[::-1,:])\n",
        "\n",
        "#Reversing 2D Array along columns\n",
        "print(\"Reversed 2D Array along columns: \\n\",arr1[:,::-1])\n",
        "\n",
        "#Reversing 2D Array along both axes\n",
        "print(\"Reversing 2D array along both the axes: \\n\",arr1[::-1,::-1])\n"
      ],
      "metadata": {
        "colab": {
          "base_uri": "https://localhost:8080/"
        },
        "id": "Yn7hst0h0hva",
        "outputId": "0fad65d5-a8d8-4b47-ebdd-6226d122043e"
      },
      "execution_count": 2,
      "outputs": [
        {
          "output_type": "stream",
          "name": "stdout",
          "text": [
            "Original 1D Array:  [1 2 5 6 9]\n",
            "Reversed 1D Array:  [9 6 5 2 1]\n",
            "Original 2D Array: \n",
            " [[  1   2   3]\n",
            " [ 11  22  33]\n",
            " [111 222 333]]\n",
            "Reversed 2D Array along rows: \n",
            " [[111 222 333]\n",
            " [ 11  22  33]\n",
            " [  1   2   3]]\n",
            "Reversed 2D Array along columns: \n",
            " [[  3   2   1]\n",
            " [ 33  22  11]\n",
            " [333 222 111]]\n",
            "Reversing 2D array along both the axes: \n",
            " [[333 222 111]\n",
            " [ 33  22  11]\n",
            " [  3   2   1]]\n"
          ]
        }
      ]
    },
    {
      "cell_type": "markdown",
      "source": [
        "**Question 4: How can you determine the data type of elements in a NumPy array? Discuss the importance of data types in memory management and performance.**"
      ],
      "metadata": {
        "id": "xPcSi6GGhbg-"
      }
    },
    {
      "cell_type": "markdown",
      "source": [
        "**ANS 4]** In Numpy we can find Datatype of elements by using dtype attribute. This tell us datatype of data that is stored in array.\n",
        "\n",
        "Importance of datatypes in memory management:\n",
        "\n",
        "Different datatypes take up different amount of memory allocated to them. If you dont specify right datatype, Numpy may use more memory than necessary and this can lead to memory wastage.\n",
        "\n",
        "Smaller datatypes are faster. When you use smaller datatypes computer can process data faster because it doesnt have to deal with large amounts of data."
      ],
      "metadata": {
        "id": "plDbE6P-mKku"
      }
    },
    {
      "cell_type": "markdown",
      "source": [
        "**Question 5: Define ndarrays in NumPy and explain their key features. How do they differ from standard Python lists?**"
      ],
      "metadata": {
        "id": "Cj3vuctohozt"
      }
    },
    {
      "cell_type": "markdown",
      "source": [
        "**ANS 5]** ndarrays in Python:\n",
        "\n",
        "ndarray is main object for numpy and it stands for N-dimensional array. It is special type of array used to store large amount of data in a way that makes working with that data more easier and efficient.\n",
        "\n",
        "Key Features of ndarray:\n",
        "\n",
        "1] Homogenous: All elements of ndarray must be of same datatype.\n",
        "2] Fixed size: Once you create ndarray, its size cannot be changed\n",
        "3] Fast and efficient: ndarrays use less memory and are faster to work with than python lists.\n",
        "4] Multiple Dimensions: ndarray have multiple dimensions like 1D, 2D, 3D etc which makes it easy to represent data like vectors or matrices or any other higher dimensional data.\n",
        "\n",
        "ndarrays differ from python list in:\n",
        "\n",
        "1] Speed and performance: ndarrays are faster and more efficient than python list.\n",
        "2] Homogeneity: In python list we can store elements of different datatypes but in ndarray all elemnts should be of same datatype.\n",
        "3] Operations: With python list we have to use loops to do operations like addition, multiplication on entire list but with ndarray we can do these directly on entire array which is musch faster and easier."
      ],
      "metadata": {
        "id": "L3-I-rOamN8V"
      }
    },
    {
      "cell_type": "markdown",
      "source": [
        "**Question 6: Analyze the performance benefits of NumPy arrays over Python lists for large-scale numerical operations.**"
      ],
      "metadata": {
        "id": "K4HFHQbOh0Dm"
      }
    },
    {
      "cell_type": "markdown",
      "source": [
        "**ANS 6]** Speed:\n",
        "Numpy arrays are faster than Python lists when doing math with numbers. This is because Numpy is built in a way that's super quick for calculations, while Python lists are slower because they are more general and can hold different types of data.\n",
        "\n",
        "Memory Efficiency:\n",
        "Numpy arrays use less memory than Python lists. In Numpy, all elements are stored together in a more compact way, while python lists store extra information that takes up more space.\n",
        "\n",
        "No Loops Needed:\n",
        "With Numpy, you can do math on the whole array without needing loops, which makes it faster. In python lists, you need loops to do the same thing, which slows everything down.\n",
        "\n",
        "Handling Large Data:\n",
        "Numpy is better for working with big datasets. It can handle large arrays or matrices of numbers quickly and with less memory."
      ],
      "metadata": {
        "id": "LbdKuWT1mUfw"
      }
    },
    {
      "cell_type": "markdown",
      "source": [
        "**Question 7: Compare vstack() and hstack() functions in NumPy. Provide examples demonstrating their usage and output.**"
      ],
      "metadata": {
        "id": "VpHr6O79h-z2"
      }
    },
    {
      "cell_type": "markdown",
      "source": [
        "**ANS 7]** vstack() and hstack() are functions in numpy that stack two arrays together but in different ways.\n",
        "\n",
        "hstack(): This function stacks array horizontally i.e side by side, it combines arrays along the columns.\n",
        "\n",
        "vstack(): This function stacks array vertically i.e on top of each other, it combines array along the rows."
      ],
      "metadata": {
        "id": "NslGi6fjmbRA"
      }
    },
    {
      "cell_type": "code",
      "source": [
        "#Example of using hstack() and vstack()\n",
        "\n",
        "arr1 = np.array([1,2,3])\n",
        "arr2 = np.array([4,5,6])\n",
        "print(\"Printing Example of hstack(): \\n\",np.hstack((arr1,arr2)))\n",
        "print(\"Printing Example of vstack(): \\n\",np.vstack((arr1,arr2)))"
      ],
      "metadata": {
        "colab": {
          "base_uri": "https://localhost:8080/"
        },
        "id": "ntrVFrfs6Hfo",
        "outputId": "c7e8e449-7fae-4ad3-a4dd-bfd047eda928"
      },
      "execution_count": null,
      "outputs": [
        {
          "output_type": "stream",
          "name": "stdout",
          "text": [
            "Printing Example of hstack(): \n",
            " [1 2 3 4 5 6]\n",
            "Printing Example of vstack(): \n",
            " [[1 2 3]\n",
            " [4 5 6]]\n"
          ]
        }
      ]
    },
    {
      "cell_type": "markdown",
      "source": [
        "**Question 8: Explain the differences between fliplr() and flipud() methods in NumPy, including their effects on various array dimensions.**"
      ],
      "metadata": {
        "id": "PlaSjsN9iN6w"
      }
    },
    {
      "cell_type": "markdown",
      "source": [
        "**ANS 8]** fliplr() and flipud() are functions that are used to flip arrays in different ways.\n",
        "\n",
        "fliplr(): This function is flip left to right function. It flips array horizontally i.e from left to right.\n",
        "\n",
        "flipud(): This function id flip up to down function. It flips array vertically i.e from up to down.\n",
        "\n",
        "Effects of these functions on various array dimensions.\n",
        "\n",
        "Effects on 2D arrays: fliplr() on 2D arrays will flip each row horizontally and flipud() on 2D arrays will flip entire array vertically.\n",
        "\n",
        "Effects on 1D arrays: fliplr() on 1D array will flip the array horizontally  but flipud() will not havea any effect on array. Since, array is one dimensional and it does not have many rows to flip with."
      ],
      "metadata": {
        "id": "WU8hdoIAmgKw"
      }
    },
    {
      "cell_type": "code",
      "source": [
        "#Examples of using fliplr() and flipud() on 2D and 1D arrays\n",
        "arr = np.array([[1,2,3],[4,5,6]])\n",
        "print(\"Original 2D array: \\n\",arr)\n",
        "print(\"2D Array after using fliplr(): \\n\", np.fliplr(arr))\n",
        "print(\"2D Array after using flipud(): \\n\", np.flipud(arr))\n",
        "\n",
        "arr1 = np.array([1,2,3])\n",
        "print(\"\\nOriginal 1D Array: \\n\",arr1)\n",
        "#print(\"1D Array after using fliplr(): \\n\", np.fliplr(arr1)) Gives error because it expects 2D array as an input\n",
        "print(\"1D Array after using flipud(): \\n\", np.flipud(arr1))"
      ],
      "metadata": {
        "colab": {
          "base_uri": "https://localhost:8080/"
        },
        "id": "c2gM377b-oiz",
        "outputId": "8cbc8860-045c-49e7-dd99-347e62f7a122"
      },
      "execution_count": null,
      "outputs": [
        {
          "output_type": "stream",
          "name": "stdout",
          "text": [
            "Original 2D array: \n",
            " [[1 2 3]\n",
            " [4 5 6]]\n",
            "2D Array after using fliplr(): \n",
            " [[3 2 1]\n",
            " [6 5 4]]\n",
            "2D Array after using flipud(): \n",
            " [[4 5 6]\n",
            " [1 2 3]]\n",
            "\n",
            "Original 1D Array: \n",
            " [1 2 3]\n",
            "1D Array after using flipud(): \n",
            " [3 2 1]\n"
          ]
        }
      ]
    },
    {
      "cell_type": "markdown",
      "source": [
        "**Question 9: Discuss the functionality of the array_split() method in NumPy. How does it handle uneven splits?**"
      ],
      "metadata": {
        "id": "3m3AHhDDid2k"
      }
    },
    {
      "cell_type": "markdown",
      "source": [
        "**ANS 9]** The array_split() method of numpy is used to split the array into smaller arrays. We can specify in how many parts we wish to split the array.\n",
        "\n",
        "Syntax: np.array_split(array, indices/Sections)\n",
        "array: The array that we want to split\n",
        "indices/Sections: List of indices where we want to split the array/ Number of sections into which we wish to split the array.\n",
        "\n",
        "If the number of elements in the array is not evenly divisible by the number of parts, Numpy will try to balance it as evenly as possible by giving the extra elements to the first parts."
      ],
      "metadata": {
        "id": "EHX8fC1imnqE"
      }
    },
    {
      "cell_type": "code",
      "source": [
        "#Uneven splitting of elements\n",
        "arr = np.array([1,2,3,4,5,6,7,8,9])\n",
        "print(\"Original array: \",arr)\n",
        "print(\"Array splitted into 4 parts: \",np.array_split(arr,4)) #Will add extra element to the first group"
      ],
      "metadata": {
        "colab": {
          "base_uri": "https://localhost:8080/"
        },
        "id": "mVE-axLQE2j3",
        "outputId": "1617f49b-75b8-4138-e056-224a0f23acff"
      },
      "execution_count": null,
      "outputs": [
        {
          "output_type": "stream",
          "name": "stdout",
          "text": [
            "Original array:  [1 2 3 4 5 6 7 8 9]\n",
            "Array splitted into 4 parts:  [array([1, 2, 3]), array([4, 5]), array([6, 7]), array([8, 9])]\n"
          ]
        }
      ]
    },
    {
      "cell_type": "markdown",
      "source": [
        "**Question 10: Explain the concepts of vectorization and broadcasting in NumPy. How do they contribute to efficient array operations?**"
      ],
      "metadata": {
        "id": "G6QSTqHIis92"
      }
    },
    {
      "cell_type": "markdown",
      "source": [
        "**ANS 10]** Vectorization and broadcasting are techniques that make working with arrays faster and easier. They allow you to perform complex operations on large arrays without writing loops, which makes your code more efficient.\n",
        "\n",
        "Vectorization: Vectorization in numpy means using special methods to do many operations at once. Suppose you have a list and you wish to add a number to each value in list, Instead of using for loop to do this step repeatedly vectorization lets you do thi one step\n",
        "\n",
        "Broadcasting: Broadcasting is a way of making Numpy arrays with different shapes work together without needing to change their sizes. When you perform operations on arrays, Numpy automatically \"stretches\" smaller arrays to match the size of the bigger ones, so they can be combined easily."
      ],
      "metadata": {
        "id": "wwby9Z-vmrCI"
      }
    },
    {
      "cell_type": "code",
      "source": [
        "#Example of vectorization:\n",
        "arr = np.array([1,2,3,4,5])\n",
        "print(\"Original array: \",arr)\n",
        "print(\"Array after vectorization: \",arr+10)"
      ],
      "metadata": {
        "colab": {
          "base_uri": "https://localhost:8080/"
        },
        "id": "jeCAc4th8fz6",
        "outputId": "f86f7c68-01ce-467c-e81a-5bf0f341c54f"
      },
      "execution_count": 4,
      "outputs": [
        {
          "output_type": "stream",
          "name": "stdout",
          "text": [
            "Original array:  [1 2 3 4 5]\n",
            "Array after vectorization:  [11 12 13 14 15]\n"
          ]
        }
      ]
    },
    {
      "cell_type": "markdown",
      "source": [
        "# Practical Questions:"
      ],
      "metadata": {
        "id": "_5FpZyOui34c"
      }
    },
    {
      "cell_type": "markdown",
      "source": [
        "**Question 1: Create a 3x3 NumPy array with random integers between 1 and 100. Then, interchange its rows and columns.**"
      ],
      "metadata": {
        "id": "RQt3BskYi-N4"
      }
    },
    {
      "cell_type": "markdown",
      "source": [
        "**ANS 1]**"
      ],
      "metadata": {
        "id": "ZxTU7TSGmwrv"
      }
    },
    {
      "cell_type": "code",
      "source": [
        "arr = np.random.randint(1,101,(3,3))\n",
        "print(\"Original Array: \\n\",arr)\n",
        "arr = arr.T\n",
        "print(\"Array after interchanging rows and columns: \\n\",arr)"
      ],
      "metadata": {
        "colab": {
          "base_uri": "https://localhost:8080/"
        },
        "id": "dgaNhtrLLM7B",
        "outputId": "c6bbaffb-4a68-4e73-f185-333a90ed1d03"
      },
      "execution_count": 6,
      "outputs": [
        {
          "output_type": "stream",
          "name": "stdout",
          "text": [
            "Original Array: \n",
            " [[36 29 94]\n",
            " [60 85 59]\n",
            " [84 91 54]]\n",
            "Array after interchanging rows and columns: \n",
            " [[36 60 84]\n",
            " [29 85 91]\n",
            " [94 59 54]]\n"
          ]
        }
      ]
    },
    {
      "cell_type": "markdown",
      "source": [
        "**Question 2: Generate a 1D NumPy array with 10 elements. Reshape it into a 2x5 array, then into a 5x2 array.**"
      ],
      "metadata": {
        "id": "NqmSKQZ1jGjs"
      }
    },
    {
      "cell_type": "markdown",
      "source": [
        "**ANS 2]**"
      ],
      "metadata": {
        "id": "hhhNeFF_m0oK"
      }
    },
    {
      "cell_type": "code",
      "source": [
        "arr = np.array([11,22,33,44,55,66,77,88,99,00])\n",
        "print(\"Original array: \\n\",arr)\n",
        "print(\"2 x 5 array: \\n\", arr.reshape(2,5))\n",
        "print(\"5 x 2 array: \\n\", arr.reshape(5,2))"
      ],
      "metadata": {
        "colab": {
          "base_uri": "https://localhost:8080/"
        },
        "id": "pAG50o-JL10_",
        "outputId": "bcb40042-5b3d-4f4b-b10e-5b68186dd38a"
      },
      "execution_count": 9,
      "outputs": [
        {
          "output_type": "stream",
          "name": "stdout",
          "text": [
            "Original array: \n",
            " [11 22 33 44 55 66 77 88 99  0]\n",
            "2 x 5 array: \n",
            " [[11 22 33 44 55]\n",
            " [66 77 88 99  0]]\n",
            "5 x 2 array: \n",
            " [[11 22]\n",
            " [33 44]\n",
            " [55 66]\n",
            " [77 88]\n",
            " [99  0]]\n"
          ]
        }
      ]
    },
    {
      "cell_type": "markdown",
      "source": [
        "**Question 3: Create a 4x4 NumPy array with random float values. Add a border of zeros around it, resulting in a 6x6 array.**"
      ],
      "metadata": {
        "id": "l9j-AYpcjRKM"
      }
    },
    {
      "cell_type": "markdown",
      "source": [
        "**ANS 3]**"
      ],
      "metadata": {
        "id": "73T3TaFHm6kf"
      }
    },
    {
      "cell_type": "code",
      "source": [
        "arr = np.random.random((4, 4))\n",
        "print(\"Original array: \\n\",arr)\n",
        "print(\"Array with padding: \\n\", np.pad(arr,pad_width=1, mode=\"constant\", constant_values = 0))\n"
      ],
      "metadata": {
        "colab": {
          "base_uri": "https://localhost:8080/"
        },
        "id": "gTVb4pa-NJ94",
        "outputId": "c0928571-fb5a-43e9-d8c3-7131bf4a028e"
      },
      "execution_count": 14,
      "outputs": [
        {
          "output_type": "stream",
          "name": "stdout",
          "text": [
            "Original array: \n",
            " [[0.89004113 0.34634846 0.39128177 0.27099499]\n",
            " [0.07662638 0.13734372 0.10838191 0.02807213]\n",
            " [0.23230971 0.48001702 0.12117534 0.88792559]\n",
            " [0.11676823 0.58919643 0.45394233 0.47072467]]\n",
            "Array with padding: \n",
            " [[0.         0.         0.         0.         0.         0.        ]\n",
            " [0.         0.89004113 0.34634846 0.39128177 0.27099499 0.        ]\n",
            " [0.         0.07662638 0.13734372 0.10838191 0.02807213 0.        ]\n",
            " [0.         0.23230971 0.48001702 0.12117534 0.88792559 0.        ]\n",
            " [0.         0.11676823 0.58919643 0.45394233 0.47072467 0.        ]\n",
            " [0.         0.         0.         0.         0.         0.        ]]\n"
          ]
        }
      ]
    },
    {
      "cell_type": "markdown",
      "source": [
        "**Question 4: Using NumPy, create an array of integers from 10 to 60 with a step of 5.**"
      ],
      "metadata": {
        "id": "jtYA-FbSjZmj"
      }
    },
    {
      "cell_type": "markdown",
      "source": [
        "**ANS 4]**"
      ],
      "metadata": {
        "id": "9kt2rDC4m_fK"
      }
    },
    {
      "cell_type": "code",
      "source": [
        "arr = np.arange(10,61,5)\n",
        "print(\"Array of integers from 10 to 60 with a step of 5: \\n\",arr)"
      ],
      "metadata": {
        "colab": {
          "base_uri": "https://localhost:8080/"
        },
        "id": "gtzIZaOmQpqv",
        "outputId": "a69369af-ab27-402b-e185-f9b1a6f1692b"
      },
      "execution_count": 15,
      "outputs": [
        {
          "output_type": "stream",
          "name": "stdout",
          "text": [
            "Array of integers from 10 to 60 with a step of 5: \n",
            " [10 15 20 25 30 35 40 45 50 55 60]\n"
          ]
        }
      ]
    },
    {
      "cell_type": "markdown",
      "source": [
        "**Question 5: Create a NumPy array of strings ['python', 'numpy','pandas']. Apply different case transformations (uppercase, lowercase, title case, etc.) to each element.**"
      ],
      "metadata": {
        "id": "zuYWSF0XjkLm"
      }
    },
    {
      "cell_type": "markdown",
      "source": [
        "**ANS 5]**"
      ],
      "metadata": {
        "id": "5qQRiYZwnEMw"
      }
    },
    {
      "cell_type": "code",
      "source": [
        "arr = np.array(['python', 'numpy','pandas'])\n",
        "print(\"Original array: \",arr)\n",
        "print(\"Uppercase array: \",np.char.upper(arr))\n",
        "print(\"Lowercase array: \",np.char.lower(arr))\n",
        "print(\"Titlecase array: \",np.char.title(arr))\n",
        "print(\"Capitalize array: \",np.char.capitalize(arr))"
      ],
      "metadata": {
        "colab": {
          "base_uri": "https://localhost:8080/"
        },
        "id": "iYujQlHoTn5D",
        "outputId": "cc10cb0b-325b-4921-950c-067230098e5a"
      },
      "execution_count": 16,
      "outputs": [
        {
          "output_type": "stream",
          "name": "stdout",
          "text": [
            "Original array:  ['python' 'numpy' 'pandas']\n",
            "Uppercase array:  ['PYTHON' 'NUMPY' 'PANDAS']\n",
            "Lowercase array:  ['python' 'numpy' 'pandas']\n",
            "Titlecase array:  ['Python' 'Numpy' 'Pandas']\n",
            "Capitalize array:  ['Python' 'Numpy' 'Pandas']\n"
          ]
        }
      ]
    },
    {
      "cell_type": "markdown",
      "source": [
        "**Question 6: Generate a NumPy array of words. Insert a space between each character of every word in the array**"
      ],
      "metadata": {
        "id": "LdYPyc6wjyCA"
      }
    },
    {
      "cell_type": "markdown",
      "source": [
        "**ANS 6]**"
      ],
      "metadata": {
        "id": "aTyaiWkznHzz"
      }
    },
    {
      "cell_type": "code",
      "source": [
        "arr = np.array(['Hello','World','Lets','Learn','Python'])\n",
        "print(\"Original array: \",arr)\n",
        "print(\"Array after inserting space between each character of every word: \",np.char.join(\" \",arr))"
      ],
      "metadata": {
        "colab": {
          "base_uri": "https://localhost:8080/"
        },
        "id": "dWHMTBqdWv1F",
        "outputId": "1715d7ed-c11a-4815-d25e-a8d57e5d7cde"
      },
      "execution_count": 17,
      "outputs": [
        {
          "output_type": "stream",
          "name": "stdout",
          "text": [
            "Original array:  ['Hello' 'World' 'Lets' 'Learn' 'Python']\n",
            "Array after inserting space between each character of every word:  ['H e l l o' 'W o r l d' 'L e t s' 'L e a r n' 'P y t h o n']\n"
          ]
        }
      ]
    },
    {
      "cell_type": "markdown",
      "source": [
        "**Question 7: Create two 2D NumPy arrays and perform element-wise addition, subtraction, multiplication, and division**"
      ],
      "metadata": {
        "id": "G6_zCT_gj-PM"
      }
    },
    {
      "cell_type": "markdown",
      "source": [
        "**ANS 7]**"
      ],
      "metadata": {
        "id": "JF71fCwrnMRe"
      }
    },
    {
      "cell_type": "code",
      "source": [
        "arr1 = np.array([[11,22,33],[44,55,66],[77,88,99]])\n",
        "arr2 = np.array([[99,88,77],[66,55,44],[33,22,11]])\n",
        "print(\"Array 1: \\n\",arr1)\n",
        "print(\"Array 2: \\n\",arr2)\n",
        "add_result = arr1+arr2\n",
        "print(\"Addition of both arrays: \\n\",add_result)\n",
        "sub_result = arr1-arr2\n",
        "print(\"Subtraction of both arrays: \\n\",sub_result)\n",
        "mul_result = arr1*arr2\n",
        "print(\"Multiplication of both arrays: \\n\",mul_result)\n",
        "div_result = arr1/arr2\n",
        "print(\"Division of both arrays: \\n\",div_result)"
      ],
      "metadata": {
        "colab": {
          "base_uri": "https://localhost:8080/"
        },
        "id": "3MEnb_xrX9_A",
        "outputId": "21251d83-865d-492e-d263-be03f90bee6a"
      },
      "execution_count": 21,
      "outputs": [
        {
          "output_type": "stream",
          "name": "stdout",
          "text": [
            "Array 1: \n",
            " [[11 22 33]\n",
            " [44 55 66]\n",
            " [77 88 99]]\n",
            "Array 2: \n",
            " [[99 88 77]\n",
            " [66 55 44]\n",
            " [33 22 11]]\n",
            "Addition of both arrays: \n",
            " [[110 110 110]\n",
            " [110 110 110]\n",
            " [110 110 110]]\n",
            "Subtraction of both arrays: \n",
            " [[-88 -66 -44]\n",
            " [-22   0  22]\n",
            " [ 44  66  88]]\n",
            "Multiplication of both arrays: \n",
            " [[1089 1936 2541]\n",
            " [2904 3025 2904]\n",
            " [2541 1936 1089]]\n",
            "Division of both arrays: \n",
            " [[0.11111111 0.25       0.42857143]\n",
            " [0.66666667 1.         1.5       ]\n",
            " [2.33333333 4.         9.        ]]\n"
          ]
        }
      ]
    },
    {
      "cell_type": "markdown",
      "source": [
        "**Question 8: Use NumPy to create a 5x5 identity matrix, then extract its diagonal elements**"
      ],
      "metadata": {
        "id": "9BcQht5ykGH1"
      }
    },
    {
      "cell_type": "markdown",
      "source": [
        "**ANS 8]**"
      ],
      "metadata": {
        "id": "dh9Ge3AunSsT"
      }
    },
    {
      "cell_type": "code",
      "source": [
        "identity_matrix = np.identity(5)\n",
        "print(\"Identity matrix: \\n\",identity_matrix)\n",
        "print(\"Diagonal elements of identity matrix: \",np.diag(identity_matrix))"
      ],
      "metadata": {
        "colab": {
          "base_uri": "https://localhost:8080/"
        },
        "id": "4DzLdP-0ZimZ",
        "outputId": "ee2348ed-1d9f-4cd2-a872-62f0bcf2ed7a"
      },
      "execution_count": 22,
      "outputs": [
        {
          "output_type": "stream",
          "name": "stdout",
          "text": [
            "Identity matrix: \n",
            " [[1. 0. 0. 0. 0.]\n",
            " [0. 1. 0. 0. 0.]\n",
            " [0. 0. 1. 0. 0.]\n",
            " [0. 0. 0. 1. 0.]\n",
            " [0. 0. 0. 0. 1.]]\n",
            "Diagonal elements of identity matrix:  [1. 1. 1. 1. 1.]\n"
          ]
        }
      ]
    },
    {
      "cell_type": "markdown",
      "source": [
        "**Question 9: Generate a NumPy array of 100 random integers between 0 and 1000. Find and display all prime numbers in this array.**"
      ],
      "metadata": {
        "id": "U0Yuo_9okOYZ"
      }
    },
    {
      "cell_type": "markdown",
      "source": [
        "**ANS 9]**"
      ],
      "metadata": {
        "id": "DWNOOO5PnV18"
      }
    },
    {
      "cell_type": "code",
      "source": [
        "def isPrime(n):\n",
        "    if n==1 or n==0:\n",
        "        return False\n",
        "    for i in range(2,n):\n",
        "        if n%i==0:\n",
        "            return False\n",
        "    return True\n",
        "\n",
        "\n",
        "arr = np.random.randint(0,1001,100)\n",
        "print(\"Original array: \",arr)\n",
        "print(\"Prime numbers in array: \",arr[np.vectorize(isPrime)(arr)])"
      ],
      "metadata": {
        "colab": {
          "base_uri": "https://localhost:8080/"
        },
        "id": "JTgwoLWdbIYA",
        "outputId": "05c44a79-4c53-47e2-d737-f48bee5e055f"
      },
      "execution_count": 23,
      "outputs": [
        {
          "output_type": "stream",
          "name": "stdout",
          "text": [
            "Original array:  [590 523 279 856 327 949 109 640 393 429 352  35 599 877 861 836 279   0\n",
            " 180  28 154 337 844 567 630 384 644 881 767 759 842 896 286   6 454 782\n",
            "  78 721  74 748 656 763 420 660 324 442 132 118 943 152 717 929 303 334\n",
            " 314 666 435 456 739 185 357 612 918 363 317 211 794 500 483 653 299 206\n",
            " 170 201 832 952 301 740 181 587 139  29 968 821  69 388 394  95 272 888\n",
            " 635 750 217 867 342 498   0  27 775 379]\n",
            "Prime numbers in array:  [523 109 599 877 337 881 929 739 317 211 653 181 587 139  29 821 379]\n"
          ]
        }
      ]
    },
    {
      "cell_type": "markdown",
      "source": [
        "**Question 10: Create a NumPy array representing daily temperatures for a month. Calculate and display the weekly averages.**"
      ],
      "metadata": {
        "id": "DuzPYy7KliDB"
      }
    },
    {
      "cell_type": "markdown",
      "source": [
        "**ANS 10]**"
      ],
      "metadata": {
        "id": "tP1gOSpzl0bI"
      }
    },
    {
      "cell_type": "code",
      "source": [
        "#Assuming a month of 30 days\n",
        "daily_temp = np.random.randint(20,40,30)\n",
        "print(\"Daily temperatures for a month: \",daily_temp)\n",
        "weekly_temp = daily_temp[:28].reshape(4, 7)\n",
        "weekly_avg = weekly_temp.mean(axis=1)\n",
        "print(\"Weekly temperatures: \",weekly_temp)\n",
        "print(\"Weekly averages: \",weekly_avg)"
      ],
      "metadata": {
        "colab": {
          "base_uri": "https://localhost:8080/"
        },
        "id": "-hlwhCpIcwkZ",
        "outputId": "272baa23-8b34-4e4d-ece5-357744bf7505"
      },
      "execution_count": 28,
      "outputs": [
        {
          "output_type": "stream",
          "name": "stdout",
          "text": [
            "Daily temperatures for a month:  [38 28 28 35 29 27 27 23 30 22 21 28 23 29 22 36 35 39 27 24 24 24 30 26\n",
            " 21 27 27 27 21 23]\n",
            "Weekly temperatures:  [[38 28 28 35 29 27 27]\n",
            " [23 30 22 21 28 23 29]\n",
            " [22 36 35 39 27 24 24]\n",
            " [24 30 26 21 27 27 27]]\n",
            "Weekly averages:  [30.28571429 25.14285714 29.57142857 26.        ]\n"
          ]
        }
      ]
    }
  ]
}